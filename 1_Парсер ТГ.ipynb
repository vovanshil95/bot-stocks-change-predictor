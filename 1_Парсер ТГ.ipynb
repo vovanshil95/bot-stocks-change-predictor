{
 "cells": [
  {
   "cell_type": "code",
   "execution_count": 1,
   "id": "f31df0d7-e2c7-4eb2-9c5f-08b96d3372d8",
   "metadata": {},
   "outputs": [
    {
     "name": "stdout",
     "output_type": "stream",
     "text": [
      "Collecting telethon\n",
      "  Downloading Telethon-1.39.0-py3-none-any.whl.metadata (3.9 kB)\n",
      "Collecting pyaes (from telethon)\n",
      "  Downloading pyaes-1.6.1.tar.gz (28 kB)\n",
      "  Preparing metadata (setup.py) ... \u001b[?25ldone\n",
      "\u001b[?25hCollecting rsa (from telethon)\n",
      "  Downloading rsa-4.9-py3-none-any.whl.metadata (4.2 kB)\n",
      "Requirement already satisfied: pyasn1>=0.1.3 in /opt/anaconda3/lib/python3.12/site-packages (from rsa->telethon) (0.4.8)\n",
      "Downloading Telethon-1.39.0-py3-none-any.whl (715 kB)\n",
      "\u001b[2K   \u001b[90m━━━━━━━━━━━━━━━━━━━━━━━━━━━━━━━━━━━━━━━━\u001b[0m \u001b[32m715.9/715.9 kB\u001b[0m \u001b[31m4.2 MB/s\u001b[0m eta \u001b[36m0:00:00\u001b[0ma \u001b[36m0:00:01\u001b[0m\n",
      "\u001b[?25hDownloading rsa-4.9-py3-none-any.whl (34 kB)\n",
      "Building wheels for collected packages: pyaes\n",
      "  Building wheel for pyaes (setup.py) ... \u001b[?25ldone\n",
      "\u001b[?25h  Created wheel for pyaes: filename=pyaes-1.6.1-py3-none-any.whl size=26346 sha256=b8aa2d496ccf6a9f63ff2d110c25f83eb9ff1e6dadc778a65906fa10344b4a00\n",
      "  Stored in directory: /Users/irina/Library/Caches/pip/wheels/d9/43/32/ec313dd557e88e419489b9df40c04dad7b99576bde162496f8\n",
      "Successfully built pyaes\n",
      "Installing collected packages: pyaes, rsa, telethon\n",
      "Successfully installed pyaes-1.6.1 rsa-4.9 telethon-1.39.0\n"
     ]
    }
   ],
   "source": [
    "!pip install telethon"
   ]
  },
  {
   "cell_type": "code",
   "execution_count": 2,
   "id": "ca978aaa-b52d-430c-bcf6-e12f9587bdfd",
   "metadata": {},
   "outputs": [],
   "source": [
    "import json\n",
    "from datetime import datetime\n",
    "\n",
    "from telethon import TelegramClient\n",
    "from telethon.errors import SessionPasswordNeededError\n",
    "from telethon.tl.functions.messages import GetHistoryRequest\n",
    "from telethon.tl.types import PeerChannel"
   ]
  },
  {
   "cell_type": "code",
   "execution_count": null,
   "id": "c74400b0-8d01-4e13-b20e-9aa1bd6178e2",
   "metadata": {},
   "outputs": [
    {
     "name": "stdout",
     "output_type": "stream",
     "text": [
      "Client Created\n",
      "Current Offset ID is: 0 ; Total Messages: 0\n",
      "Current Offset ID is: 117847 ; Total Messages: 100\n",
      "Current Offset ID is: 117745 ; Total Messages: 200\n",
      "Current Offset ID is: 117645 ; Total Messages: 300\n",
      "Current Offset ID is: 117544 ; Total Messages: 400\n",
      "Current Offset ID is: 117444 ; Total Messages: 500\n",
      "Current Offset ID is: 117343 ; Total Messages: 600\n",
      "Current Offset ID is: 117243 ; Total Messages: 700\n",
      "Current Offset ID is: 117143 ; Total Messages: 800\n",
      "Current Offset ID is: 117043 ; Total Messages: 900\n",
      "Current Offset ID is: 116943 ; Total Messages: 1000\n",
      "Current Offset ID is: 116840 ; Total Messages: 1100\n",
      "Current Offset ID is: 116739 ; Total Messages: 1200\n",
      "Current Offset ID is: 116638 ; Total Messages: 1300\n",
      "Current Offset ID is: 116538 ; Total Messages: 1400\n",
      "Current Offset ID is: 116438 ; Total Messages: 1500\n",
      "Current Offset ID is: 116337 ; Total Messages: 1600\n",
      "Current Offset ID is: 116234 ; Total Messages: 1700\n",
      "Current Offset ID is: 116134 ; Total Messages: 1800\n"
     ]
    },
    {
     "ename": "CancelledError",
     "evalue": "",
     "output_type": "error",
     "traceback": [
      "\u001b[0;31m---------------------------------------------------------------------------\u001b[0m",
      "\u001b[0;31mCancelledError\u001b[0m                            Traceback (most recent call last)",
      "Cell \u001b[0;32mIn[4], line 88\u001b[0m\n\u001b[1;32m     85\u001b[0m             json\u001b[38;5;241m.\u001b[39mdump(all_messages, outfile, \u001b[38;5;28mcls\u001b[39m\u001b[38;5;241m=\u001b[39mDateTimeEncoder)\n\u001b[1;32m     87\u001b[0m \u001b[38;5;28;01masync\u001b[39;00m \u001b[38;5;28;01mwith\u001b[39;00m client:\n\u001b[0;32m---> 88\u001b[0m     \u001b[38;5;28;01mawait\u001b[39;00m main(phone, channels)\n",
      "Cell \u001b[0;32mIn[4], line 64\u001b[0m, in \u001b[0;36mmain\u001b[0;34m(phone, channels)\u001b[0m\n\u001b[1;32m     62\u001b[0m \u001b[38;5;28;01mwhile\u001b[39;00m \u001b[38;5;28;01mTrue\u001b[39;00m:\n\u001b[1;32m     63\u001b[0m     \u001b[38;5;28mprint\u001b[39m(\u001b[38;5;124m\"\u001b[39m\u001b[38;5;124mCurrent Offset ID is:\u001b[39m\u001b[38;5;124m\"\u001b[39m, offset_id, \u001b[38;5;124m\"\u001b[39m\u001b[38;5;124m; Total Messages:\u001b[39m\u001b[38;5;124m\"\u001b[39m, total_messages)\n\u001b[0;32m---> 64\u001b[0m     history \u001b[38;5;241m=\u001b[39m \u001b[38;5;28;01mawait\u001b[39;00m client(GetHistoryRequest(\n\u001b[1;32m     65\u001b[0m         peer\u001b[38;5;241m=\u001b[39mmy_channel,\n\u001b[1;32m     66\u001b[0m         offset_id\u001b[38;5;241m=\u001b[39moffset_id,\n\u001b[1;32m     67\u001b[0m         offset_date\u001b[38;5;241m=\u001b[39m\u001b[38;5;28;01mNone\u001b[39;00m,\n\u001b[1;32m     68\u001b[0m         add_offset\u001b[38;5;241m=\u001b[39m\u001b[38;5;241m0\u001b[39m,\n\u001b[1;32m     69\u001b[0m         limit\u001b[38;5;241m=\u001b[39mlimit,\n\u001b[1;32m     70\u001b[0m         max_id\u001b[38;5;241m=\u001b[39m\u001b[38;5;241m0\u001b[39m,\n\u001b[1;32m     71\u001b[0m         min_id\u001b[38;5;241m=\u001b[39m\u001b[38;5;241m0\u001b[39m,\n\u001b[1;32m     72\u001b[0m         \u001b[38;5;28mhash\u001b[39m\u001b[38;5;241m=\u001b[39m\u001b[38;5;241m0\u001b[39m\n\u001b[1;32m     73\u001b[0m     ))\n\u001b[1;32m     74\u001b[0m     \u001b[38;5;28;01mif\u001b[39;00m \u001b[38;5;129;01mnot\u001b[39;00m history\u001b[38;5;241m.\u001b[39mmessages:\n\u001b[1;32m     75\u001b[0m         \u001b[38;5;28;01mbreak\u001b[39;00m\n",
      "File \u001b[0;32m~/miniconda3/lib/python3.12/site-packages/telethon/client/users.py:30\u001b[0m, in \u001b[0;36mUserMethods.__call__\u001b[0;34m(self, request, ordered, flood_sleep_threshold)\u001b[0m\n\u001b[1;32m     29\u001b[0m \u001b[38;5;28;01masync\u001b[39;00m \u001b[38;5;28;01mdef\u001b[39;00m \u001b[38;5;21m__call__\u001b[39m(\u001b[38;5;28mself\u001b[39m: \u001b[38;5;124m'\u001b[39m\u001b[38;5;124mTelegramClient\u001b[39m\u001b[38;5;124m'\u001b[39m, request, ordered\u001b[38;5;241m=\u001b[39m\u001b[38;5;28;01mFalse\u001b[39;00m, flood_sleep_threshold\u001b[38;5;241m=\u001b[39m\u001b[38;5;28;01mNone\u001b[39;00m):\n\u001b[0;32m---> 30\u001b[0m     \u001b[38;5;28;01mreturn\u001b[39;00m \u001b[38;5;28;01mawait\u001b[39;00m \u001b[38;5;28mself\u001b[39m\u001b[38;5;241m.\u001b[39m_call(\u001b[38;5;28mself\u001b[39m\u001b[38;5;241m.\u001b[39m_sender, request, ordered\u001b[38;5;241m=\u001b[39mordered)\n",
      "File \u001b[0;32m~/miniconda3/lib/python3.12/site-packages/telethon/client/users.py:87\u001b[0m, in \u001b[0;36mUserMethods._call\u001b[0;34m(self, sender, request, ordered, flood_sleep_threshold)\u001b[0m\n\u001b[1;32m     85\u001b[0m         \u001b[38;5;28;01mreturn\u001b[39;00m results\n\u001b[1;32m     86\u001b[0m \u001b[38;5;28;01melse\u001b[39;00m:\n\u001b[0;32m---> 87\u001b[0m     result \u001b[38;5;241m=\u001b[39m \u001b[38;5;28;01mawait\u001b[39;00m future\n\u001b[1;32m     88\u001b[0m     \u001b[38;5;28mself\u001b[39m\u001b[38;5;241m.\u001b[39msession\u001b[38;5;241m.\u001b[39mprocess_entities(result)\n\u001b[1;32m     89\u001b[0m     \u001b[38;5;28;01mreturn\u001b[39;00m result\n",
      "\u001b[0;31mCancelledError\u001b[0m: "
     ]
    }
   ],
   "source": [
    "class DateTimeEncoder(json.JSONEncoder):\n",
    "    def default(self, o):\n",
    "        if isinstance(o, datetime):\n",
    "            return o.isoformat()\n",
    "\n",
    "        if isinstance(o, bytes):\n",
    "            return list(o)\n",
    "\n",
    "        return json.JSONEncoder.default(self, o)\n",
    "\n",
    "api_id = ''\n",
    "\n",
    "api_hash = ''\n",
    "\n",
    "phone = ''\n",
    "username = ''\n",
    "\n",
    "client = TelegramClient(username, api_id, api_hash)\n",
    "\n",
    "channels = [\n",
    "    'https://t.me/rbc_news', 'https://t.me/rt_russian', 'https://t.me/kommersant',\n",
    "    'https://t.me/vedomosti', 'https://t.me/rian_ru', 'https://t.me/tass_agency',\n",
    "    'https://t.me/frank_media', 'https://t.me/BIoomberg', 'https://t.me/markettwits',\n",
    "    'https://t.me/bankser', 'https://t.me/newssmartlab', 'https://t.me/investingcorp',\n",
    "    'https://t.me/banksta', 'https://t.me/economylive', 'https://t.me/FatCat18',\n",
    "    'https://t.me/headlines_for_traders', 'https://t.me/econs', 'https://t.me/Stock_News100',\n",
    "    'https://t.me/forbesrussia', 'https://t.me/sosisochniyparserru', 'https://t.me/gazpromneft_official',\n",
    "    'https://t.me/nedvizhna24', 'https://t.me/gazprom', 'https://t.me/banki_economy',\n",
    "    'https://t.me/SberInvestments']\n",
    "\n",
    "\n",
    "async def main(phone, channels):\n",
    "    await client.start()\n",
    "    print(\"Client Created\")\n",
    "\n",
    "    if await client.is_user_authorized() == False:\n",
    "        await client.send_code_request(phone)\n",
    "        try:\n",
    "            await client.sign_in(phone, input('Enter the code: '))\n",
    "        except SessionPasswordNeededError:\n",
    "            await client.sign_in(password=input('Password: '))\n",
    "\n",
    "    me = await client.get_me()\n",
    "\n",
    "    for channel in channels:\n",
    "\n",
    "        user_input_channel = channel\n",
    "\n",
    "        if user_input_channel.isdigit():\n",
    "            entity = PeerChannel(int(user_input_channel))\n",
    "        else:\n",
    "            entity = user_input_channel\n",
    "\n",
    "        my_channel = await client.get_entity(entity)\n",
    "\n",
    "        offset_id = 0\n",
    "        limit = 1000\n",
    "        all_messages = []\n",
    "        total_messages = 0\n",
    "        total_count_limit = 0\n",
    "\n",
    "        while True:\n",
    "            print(\"Current Offset ID is:\", offset_id, \"; Total Messages:\", total_messages)\n",
    "            history = await client(GetHistoryRequest(\n",
    "                peer=my_channel,\n",
    "                offset_id=offset_id,\n",
    "                offset_date=None,\n",
    "                add_offset=0,\n",
    "                limit=limit,\n",
    "                max_id=0,\n",
    "                min_id=0,\n",
    "                hash=0\n",
    "            ))\n",
    "            if not history.messages:\n",
    "                break\n",
    "            messages = history.messages\n",
    "            for message in messages:\n",
    "                all_messages.append(message.to_dict())\n",
    "            offset_id = messages[len(messages) - 1].id\n",
    "            total_messages = len(all_messages)\n",
    "            if total_count_limit != 0 and total_messages >= total_count_limit:\n",
    "                break\n",
    "\n",
    "        with open(f'Telegram_data/{channel[13:]}_messages.json', 'w') as outfile:\n",
    "            json.dump(all_messages, outfile, cls=DateTimeEncoder)\n",
    "\n",
    "async with client:\n",
    "    await main(phone, channels)"
   ]
  },
  {
   "cell_type": "code",
   "execution_count": 5,
   "id": "51259bb6-5d81-4aad-8aed-1f22e6c0e4d1",
   "metadata": {},
   "outputs": [
    {
     "data": {
      "text/plain": [
       "[]"
      ]
     },
     "execution_count": 5,
     "metadata": {},
     "output_type": "execute_result"
    }
   ],
   "source": [
    "import os\n",
    "os.listdir('Telegram_data')"
   ]
  },
  {
   "cell_type": "code",
   "execution_count": null,
   "id": "7a2ab571-d024-421c-b942-40eedfd5290d",
   "metadata": {},
   "outputs": [],
   "source": []
  }
 ],
 "metadata": {
  "kernelspec": {
   "display_name": "Python 3",
   "language": "python",
   "name": "python3"
  },
  "language_info": {
   "codemirror_mode": {
    "name": "ipython",
    "version": 3
   },
   "file_extension": ".py",
   "mimetype": "text/x-python",
   "name": "python",
   "nbconvert_exporter": "python",
   "pygments_lexer": "ipython3",
   "version": "3.12.8"
  }
 },
 "nbformat": 4,
 "nbformat_minor": 5
}
