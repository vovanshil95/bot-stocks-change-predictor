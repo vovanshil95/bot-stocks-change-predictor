{
  "cells": [
    {
      "cell_type": "code",
      "execution_count": null,
      "metadata": {
        "colab": {
          "base_uri": "https://localhost:8080/"
        },
        "id": "ShmjVwx1wTqR",
        "outputId": "a70f76ea-d2cd-4edd-ee5c-b0c86695669a"
      },
      "outputs": [
        {
          "output_type": "stream",
          "name": "stdout",
          "text": [
            "Looking in indexes: https://pypi.org/simple, https://us-python.pkg.dev/colab-wheels/public/simple/\n",
            "Collecting transformers\n",
            "  Downloading transformers-4.28.1-py3-none-any.whl (7.0 MB)\n",
            "\u001b[2K     \u001b[90m━━━━━━━━━━━━━━━━━━━━━━━━━━━━━━━━━━━━━━━━\u001b[0m \u001b[32m7.0/7.0 MB\u001b[0m \u001b[31m41.9 MB/s\u001b[0m eta \u001b[36m0:00:00\u001b[0m\n",
            "\u001b[?25hRequirement already satisfied: tqdm>=4.27 in /usr/local/lib/python3.10/dist-packages (from transformers) (4.65.0)\n",
            "Requirement already satisfied: regex!=2019.12.17 in /usr/local/lib/python3.10/dist-packages (from transformers) (2022.10.31)\n",
            "Requirement already satisfied: filelock in /usr/local/lib/python3.10/dist-packages (from transformers) (3.12.0)\n",
            "Collecting huggingface-hub<1.0,>=0.11.0\n",
            "  Downloading huggingface_hub-0.14.1-py3-none-any.whl (224 kB)\n",
            "\u001b[2K     \u001b[90m━━━━━━━━━━━━━━━━━━━━━━━━━━━━━━━━━━━━━━\u001b[0m \u001b[32m224.5/224.5 kB\u001b[0m \u001b[31m13.9 MB/s\u001b[0m eta \u001b[36m0:00:00\u001b[0m\n",
            "\u001b[?25hRequirement already satisfied: pyyaml>=5.1 in /usr/local/lib/python3.10/dist-packages (from transformers) (6.0)\n",
            "Collecting tokenizers!=0.11.3,<0.14,>=0.11.1\n",
            "  Downloading tokenizers-0.13.3-cp310-cp310-manylinux_2_17_x86_64.manylinux2014_x86_64.whl (7.8 MB)\n",
            "\u001b[2K     \u001b[90m━━━━━━━━━━━━━━━━━━━━━━━━━━━━━━━━━━━━━━━━\u001b[0m \u001b[32m7.8/7.8 MB\u001b[0m \u001b[31m84.5 MB/s\u001b[0m eta \u001b[36m0:00:00\u001b[0m\n",
            "\u001b[?25hRequirement already satisfied: packaging>=20.0 in /usr/local/lib/python3.10/dist-packages (from transformers) (23.1)\n",
            "Requirement already satisfied: numpy>=1.17 in /usr/local/lib/python3.10/dist-packages (from transformers) (1.22.4)\n",
            "Requirement already satisfied: requests in /usr/local/lib/python3.10/dist-packages (from transformers) (2.27.1)\n",
            "Requirement already satisfied: typing-extensions>=3.7.4.3 in /usr/local/lib/python3.10/dist-packages (from huggingface-hub<1.0,>=0.11.0->transformers) (4.5.0)\n",
            "Requirement already satisfied: fsspec in /usr/local/lib/python3.10/dist-packages (from huggingface-hub<1.0,>=0.11.0->transformers) (2023.4.0)\n",
            "Requirement already satisfied: certifi>=2017.4.17 in /usr/local/lib/python3.10/dist-packages (from requests->transformers) (2022.12.7)\n",
            "Requirement already satisfied: idna<4,>=2.5 in /usr/local/lib/python3.10/dist-packages (from requests->transformers) (3.4)\n",
            "Requirement already satisfied: charset-normalizer~=2.0.0 in /usr/local/lib/python3.10/dist-packages (from requests->transformers) (2.0.12)\n",
            "Requirement already satisfied: urllib3<1.27,>=1.21.1 in /usr/local/lib/python3.10/dist-packages (from requests->transformers) (1.26.15)\n",
            "Installing collected packages: tokenizers, huggingface-hub, transformers\n",
            "Successfully installed huggingface-hub-0.14.1 tokenizers-0.13.3 transformers-4.28.1\n"
          ]
        }
      ],
      "source": [
        "pip install transformers"
      ]
    },
    {
      "cell_type": "code",
      "execution_count": null,
      "metadata": {
        "id": "9xWTvt5XLloa",
        "colab": {
          "base_uri": "https://localhost:8080/"
        },
        "outputId": "a70197d6-2a30-4d72-c05b-8b87ed6b53c1"
      },
      "outputs": [
        {
          "output_type": "stream",
          "name": "stdout",
          "text": [
            "Mounted at /content/drive\n"
          ]
        }
      ],
      "source": [
        "from google.colab import drive\n",
        "drive.mount('/content/drive')"
      ]
    },
    {
      "cell_type": "code",
      "execution_count": null,
      "metadata": {
        "id": "lsIu-y3yy_Dm"
      },
      "outputs": [],
      "source": [
        "import gc\n",
        "\n",
        "import pandas as pd\n",
        "import numpy as np\n",
        "\n",
        "import torch\n",
        "from torch import nn\n",
        "import torch.nn.functional as F\n",
        "from torch.utils.data import Dataset, DataLoader\n",
        "from torch.optim import AdamW\n",
        "from tqdm import tqdm\n",
        "from transformers import AutoTokenizer, AutoModel #AutoModelForSequenceClassification\n",
        "from transformers import get_linear_schedule_with_warmup\n",
        "from sklearn.metrics import accuracy_score, precision_score, recall_score, f1_score, roc_auc_score, cohen_kappa_score\n",
        "\n",
        "def mean_pooling(model_output, attention_mask):\n",
        "    token_embeddings = model_output[0] #First element of model_output contains all token embeddings\n",
        "    input_mask_expanded = attention_mask.unsqueeze(-1).expand(token_embeddings.size()).float()\n",
        "    sum_embeddings = torch.sum(token_embeddings * input_mask_expanded, 1)\n",
        "    sum_mask = torch.clamp(input_mask_expanded.sum(1), min=1e-9)\n",
        "    return sum_embeddings / sum_mask"
      ]
    },
    {
      "cell_type": "code",
      "execution_count": null,
      "metadata": {
        "id": "Lm-OjJjN0ciL"
      },
      "outputs": [],
      "source": [
        "sectors = ['finance', 'gold', 'ferrous_metallurgy', 'oil_gas', 'non_ferrous_metallurgy', 'electrical networks', 'telecom', 'it', 'real_estate']\n",
        "companies = ['ALRS', 'AFLT', 'VTBR', 'GAZP', 'GMKN', 'LSRG', 'DSKY', 'IRAO', 'LKOH', 'MAGN', 'MOEX', 'CBOM', 'MTSS', 'ROSN', 'NLMK', 'NVTK', 'PIKK', 'PLZL',\n",
        "              'RTKM', 'RUAL', 'HYDR', 'SBER', 'CHMF', 'AFKS', 'SNGS', 'TATN', 'TCSG', 'TRNFP', 'POGR', 'PHOR', 'FEES', 'HHRU', 'YNDX']"
      ]
    },
    {
      "cell_type": "code",
      "execution_count": null,
      "metadata": {
        "id": "j616yb14w8Nq"
      },
      "outputs": [],
      "source": [
        "sectors = ['finance', 'gold', 'ferrous_metallurgy', 'oil_gas', 'non_ferrous_metallurgy', 'electrical networks', 'telecom', 'it', 'real_estate']\n",
        "companies = ['ALRS', 'AFLT', 'VTBR', 'GAZP', 'GMKN', 'DSKY', 'IRAO', 'LKOH', 'MAGN', 'MOEX', 'CBOM', 'MTSS',\n",
        "             'ROSN', 'NVTK', 'PIKK', 'RTKM', 'RUAL', 'HYDR', 'SBER', 'CHMF', 'AFKS', 'SNGS', 'TATN',\n",
        "             'TCSG', 'TRNFP', 'PHOR', 'YNDX']"
      ]
    },
    {
      "cell_type": "markdown",
      "metadata": {
        "id": "P63SlseSxB25"
      },
      "source": [
        "## Берт как в соревновании один таймфрейм"
      ]
    },
    {
      "cell_type": "code",
      "execution_count": null,
      "metadata": {
        "id": "_A13feDCxJLx"
      },
      "outputs": [],
      "source": [
        "class NewsDataset(Dataset):\n",
        "    def __init__(self, texts, targets):\n",
        "    \n",
        "      self.labels = targets.astype(int)\n",
        "      self.texts = [tokenizer(text, \n",
        "                          padding='max_length', max_length = 512, truncation=True,\n",
        "                          return_tensors=\"pt\") for text in texts]\n",
        "\n",
        "    def __len__(self):\n",
        "        return len(self.labels)\n",
        "\n",
        "\n",
        "    def __getitem__(self, idx):\n",
        "\n",
        "        batch_texts = self.texts[idx]\n",
        "        batch_y = self.labels[idx] + 1\n",
        "\n",
        "        return batch_texts, batch_y"
      ]
    },
    {
      "cell_type": "code",
      "execution_count": null,
      "metadata": {
        "colab": {
          "base_uri": "https://localhost:8080/",
          "height": 145,
          "referenced_widgets": [
            "eb51e009ae94457294e08011943d3216",
            "eda7becdf5814fb0aca8859120d846f1",
            "cb282c81ed6543b783aa192b0e4f8ee1",
            "035a38596b504ea38fd1ca62e0c2d5b4",
            "e29c5379afbb4f0594ef25b8d7241b8d",
            "eabb61e5245e482fb342eef0a328d21f",
            "0ff37e2e7310497c9318c7338191dc56",
            "4e3a3acc82a94838b71fd2d70ff82772",
            "7d1bcd71224042ea83934ea9aef2cbd2",
            "9f3b28b846a04f58b6e8a0c0eaff6779",
            "5449055ff2684735becf10d1ae023cd1",
            "5165ecafd5f644f69d6419438d250a7d",
            "06094132b1b949bd9406644a46f559c3",
            "63f6112e078d435187ad9718d83084fd",
            "fe1caa0622984898b86040bd1be45b55",
            "748da7fb101448ccb5622631568e9753",
            "f778fcb1e48d455cadb582947024698e",
            "b398ff506e0c4ad0b81d76e953db6cc2",
            "55ccb5f1e85544f4b1dd68f479a493bb",
            "da7fe199d6164d5fb95551cade9f3096",
            "4b53ace34a28498f9e5cde2ea2735e3e",
            "d4dca3aa86af4ec7a42137dcc82c2f88",
            "9b3f0cd66e4d4973aef864123f5d3e28",
            "83c510fec90849eeb523513c1d2a4920",
            "40cb87a72f2a494a90ef6b4f9a2568b4",
            "f6ed61e360244bba892267ea1ec977bf",
            "c6f474b49537437d9c1edc7fc97fbe8b",
            "eeb1265d710541c5a9d735d3b5510c38",
            "1626b430cfaf4d4b9d750905e7e9f09f",
            "7e36399a8828452fb06e5782defd3a72",
            "b31468e7bdda43ef97426cd71c424fc9",
            "c6afc9020a9842268f0c1ec888739bad",
            "2ed88f03a2834f04bbb98244614ca908",
            "dfdee5e28f774420ab3675671bb04f67",
            "f1edf7a28ec445ba81ecf54ef55fabdf",
            "71d11a30bbed434db50c04d60bbcc9d2",
            "f3ffcf7d547945d8b4b5c126a5b9c166",
            "923ce926c8e3406cbc1dba5c95ee6b77",
            "dec81a2d1d8f4e3892b6a1711829e4eb",
            "09d2f0d23e524f53a64a935b824c1246",
            "4b590ce17dcc4735a8145243e388d334",
            "86e31a37634b42b7b6b9ff92f500f58a",
            "45893d18f2e94fc496663c6df658d541",
            "698dce281b654724a77418dc69ecfb48"
          ]
        },
        "id": "i1t5ai4GxXt_",
        "outputId": "84733be8-6dca-46ce-f1dc-cc64d6ba22a9"
      },
      "outputs": [
        {
          "output_type": "display_data",
          "data": {
            "text/plain": [
              "Downloading (…)okenizer_config.json:   0%|          | 0.00/24.0 [00:00<?, ?B/s]"
            ],
            "application/vnd.jupyter.widget-view+json": {
              "version_major": 2,
              "version_minor": 0,
              "model_id": "eb51e009ae94457294e08011943d3216"
            }
          },
          "metadata": {}
        },
        {
          "output_type": "display_data",
          "data": {
            "text/plain": [
              "Downloading (…)lve/main/config.json:   0%|          | 0.00/538 [00:00<?, ?B/s]"
            ],
            "application/vnd.jupyter.widget-view+json": {
              "version_major": 2,
              "version_minor": 0,
              "model_id": "5165ecafd5f644f69d6419438d250a7d"
            }
          },
          "metadata": {}
        },
        {
          "output_type": "display_data",
          "data": {
            "text/plain": [
              "Downloading (…)solve/main/vocab.txt:   0%|          | 0.00/1.40M [00:00<?, ?B/s]"
            ],
            "application/vnd.jupyter.widget-view+json": {
              "version_major": 2,
              "version_minor": 0,
              "model_id": "9b3f0cd66e4d4973aef864123f5d3e28"
            }
          },
          "metadata": {}
        },
        {
          "output_type": "display_data",
          "data": {
            "text/plain": [
              "Downloading (…)cial_tokens_map.json:   0%|          | 0.00/112 [00:00<?, ?B/s]"
            ],
            "application/vnd.jupyter.widget-view+json": {
              "version_major": 2,
              "version_minor": 0,
              "model_id": "dfdee5e28f774420ab3675671bb04f67"
            }
          },
          "metadata": {}
        }
      ],
      "source": [
        "tokenizer = AutoTokenizer.from_pretrained(\"DeepPavlov/distilrubert-base-cased-conversational\")"
      ]
    },
    {
      "cell_type": "code",
      "execution_count": null,
      "metadata": {
        "id": "z9_sHUUuxX27"
      },
      "outputs": [],
      "source": [
        "class BertClassifier(nn.Module):\n",
        "    def __init__(self, freeze=False):\n",
        "        super(BertClassifier, self).__init__()\n",
        "\n",
        "        input_layer = 768\n",
        "        hidden_layer = 50\n",
        "        output_layer = 3\n",
        "\n",
        "        self.bert = AutoModel.from_pretrained(\"DeepPavlov/distilrubert-base-cased-conversational\")\n",
        "\n",
        "        self.fc1 = nn.Linear(input_layer*2, input_layer//2)\n",
        "        self.fc2 = nn.Linear(input_layer*2 + input_layer//2, input_layer)\n",
        "        self.fc3 = nn.Linear(input_layer, output_layer)\n",
        "\n",
        "        self.drop1 = nn.Dropout(0.1)\n",
        "        self.drop2 = nn.Dropout(0.1)\n",
        "\n",
        "        self.act = nn.ReLU()\n",
        "\n",
        "        if freeze:\n",
        "            for param in self.bert.parameters():\n",
        "                param.requires_grad = False\n",
        "        \n",
        "    def forward(self, input_ids, attention_mask):\n",
        "        outputs = self.bert(input_ids, attention_mask)\n",
        "        sentence_embeddings = mean_pooling(outputs[1], attention_mask)\n",
        "        embeddings = torch.cat([outputs[0][:,0,:], sentence_embeddings], dim=1)\n",
        "        embeddings1 = self.fc1(embeddings)\n",
        "        embeddings = torch.cat([embeddings, embeddings1], dim=1)\n",
        "        embeddings = self.act(embeddings)\n",
        "        embeddings = self.drop1(embeddings)\n",
        "        embeddings = self.fc2(embeddings)\n",
        "        embeddings = self.act(embeddings)\n",
        "        embeddings = self.drop2(embeddings)\n",
        "        logits = self.fc3(embeddings)\n",
        "\n",
        "        return logits"
      ]
    },
    {
      "cell_type": "code",
      "execution_count": null,
      "metadata": {
        "id": "2i3aSRdPxX9N"
      },
      "outputs": [],
      "source": [
        "def calculate_metrics(labels, preds, preds_bin):\n",
        "    acc = accuracy_score(labels, preds_bin)\n",
        "    pre = precision_score(labels, preds_bin)\n",
        "    rec = recall_score(labels, preds_bin)\n",
        "    f1 = f1_score(labels, preds_bin)\n",
        "    auc = roc_auc_score(labels, preds[:,1])\n",
        "    kappa = cohen_kappa_score(labels, preds_bin)\n",
        "    return acc, pre, rec, f1, auc, kappa"
      ]
    },
    {
      "cell_type": "code",
      "execution_count": null,
      "metadata": {
        "id": "Sn5rNo_8xYEC"
      },
      "outputs": [],
      "source": [
        "def train(epochs, train_dataloader, val_dataloader):\n",
        "    best_acc = -np.inf\n",
        "    \n",
        "    for e in range(epochs):\n",
        "        model.train()\n",
        "\n",
        "        train_loss = 0\n",
        "        \n",
        "        for batch in tqdm(train_dataloader):\n",
        "\n",
        "            batch_data, batch_labels = batch\n",
        "\n",
        "            batch_inputs = batch_data['input_ids'].to(device).squeeze(1)\n",
        "            batch_masks = batch_data['attention_mask'].to(device).squeeze(1)\n",
        "            batch_labels = batch_labels.to(device)\n",
        "\n",
        "            model.zero_grad()\n",
        "\n",
        "            logits = model(batch_inputs, batch_masks)\n",
        "            loss = loss_function(logits, batch_labels)\n",
        "            \n",
        "            loss.backward()\n",
        "\n",
        "            train_loss += loss.item()\n",
        "            torch.nn.utils.clip_grad_norm_(model.parameters(), 1.0)\n",
        "            optimizer.step()\n",
        "            scheduler.step()\n",
        "        \n",
        "        train_loss /= len(train_dataloader)\n",
        "\n",
        "        model.eval()\n",
        "\n",
        "        test_loss = 0\n",
        "        \n",
        "        all_test = []\n",
        "        all_test_bin = []\n",
        "        labels = []\n",
        "\n",
        "        for batch in tqdm(val_dataloader):\n",
        "\n",
        "            batch_data, batch_labels = batch\n",
        "\n",
        "            batch_inputs = batch_data['input_ids'].to(device).squeeze(1)\n",
        "            batch_masks = batch_data['attention_mask'].to(device).squeeze(1)\n",
        "            batch_labels = batch_labels.to(device)\n",
        "\n",
        "            with torch.no_grad():\n",
        "                logits = model(batch_inputs, batch_masks)\n",
        "\n",
        "            loss = loss_function(logits, batch_labels)\n",
        "            test_loss += loss.item()\n",
        "\n",
        "            preds = F.softmax(logits, dim=-1)\n",
        "            preds_bin = preds.argmax(dim=-1) - 1\n",
        "            \n",
        "            batch_labels = batch_labels.detach().cpu().numpy()\n",
        "            preds_bin = preds_bin.detach().cpu().numpy()\n",
        "            preds = preds.detach().cpu().numpy()\n",
        "            \n",
        "            all_test.append(preds)\n",
        "            all_test_bin.append(preds_bin)\n",
        "            labels.append(batch_labels)\n",
        "\n",
        "        test_loss /= len(val_dataloader)\n",
        "        all_test = np.concatenate(all_test, axis=0)\n",
        "        all_test_bin = np.concatenate(all_test_bin, axis=0)\n",
        "        labels = np.concatenate(labels, axis=0)\n",
        "        \n",
        "        acc, pre, rec, f1, auc, kappa = calculate_metrics(labels, all_test, all_test_bin)\n",
        "        \n",
        "        if acc > best_acc:\n",
        "            best_acc = acc\n",
        "            torch.save(model.state_dict(), f'/content/drive/MyDrive/weights/dbert_tg_{col}_bin.pth')\n",
        "        \n",
        "        print('Epoch: %d  |  Train Loss: %1.5f  |  Test Loss: %1.5f'%(e+1, train_loss, test_loss))\n",
        "        \n",
        "        print('Val acc: %1.4f'%(acc))\n",
        "        print('Val pre: %1.4f'%(pre))\n",
        "        print('Val rec: %1.4f'%(rec))\n",
        "        print('Val f1: %1.4f'%(f1))\n",
        "        print('Val auc: %1.4f'%(auc))\n",
        "        print('Val kappa: %1.4f'%(kappa))"
      ]
    },
    {
      "cell_type": "code",
      "execution_count": null,
      "metadata": {
        "id": "Eia5egBTxYKy"
      },
      "outputs": [],
      "source": [
        "def evaluate(test_dataloader):\n",
        "\n",
        "  model.load_state_dict(torch.load(f'/content/drive/MyDrive/weights/dbert_tg_{col}_bin.pth'))\n",
        "  model.eval()\n",
        "\n",
        "  test_loss = 0\n",
        "\n",
        "  all_test = []\n",
        "  all_test_bin = []\n",
        "  labels = []\n",
        "\n",
        "  for batch in tqdm(test_dataloader):\n",
        "\n",
        "      batch_data, batch_labels = batch\n",
        "\n",
        "      batch_inputs = batch_data['input_ids'].to(device).squeeze(1)\n",
        "      batch_masks = batch_data['attention_mask'].to(device).squeeze(1)\n",
        "      batch_labels = batch_labels.to(device)\n",
        "\n",
        "      with torch.no_grad():\n",
        "          logits = model(batch_inputs, batch_masks)\n",
        "\n",
        "      loss = loss_function(logits, batch_labels)\n",
        "      test_loss += loss.item()\n",
        "\n",
        "      preds = F.softmax(logits, dim=-1)\n",
        "      preds_bin = preds.argmax(dim=-1) - 1\n",
        "      \n",
        "      batch_labels = batch_labels.detach().cpu().numpy()\n",
        "      preds_bin = preds_bin.detach().cpu().numpy()\n",
        "      preds = preds.detach().cpu().numpy()\n",
        "      \n",
        "      all_test.append(preds)\n",
        "      all_test_bin.append(preds_bin)\n",
        "      labels.append(batch_labels)\n",
        "\n",
        "  test_loss /= len(test_dataloader)\n",
        "  all_test = np.concatenate(all_test, axis=0)\n",
        "  all_test_bin = np.concatenate(all_test_bin, axis=0)\n",
        "  labels = np.concatenate(labels, axis=0)\n",
        "\n",
        "  acc, pre, rec, f1, auc, kappa = calculate_metrics(labels, all_test, all_test_bin)\n",
        "\n",
        "  print('Test loss: %1.4f'%(test_loss))\n",
        "  print('Test acc: %1.4f'%(acc))\n",
        "  print('Test pre: %1.4f'%(pre))\n",
        "  print('Test rec: %1.4f'%(rec))\n",
        "  print('Test f1: %1.4f'%(f1))\n",
        "  print('Test auc: %1.4f'%(auc))\n",
        "  print('Test kappa: %1.4f'%(kappa))\n",
        "  return acc, pre, rec, f1, auc, kappa"
      ]
    },
    {
      "cell_type": "code",
      "execution_count": null,
      "metadata": {
        "id": "CWsMWnhmxeuk"
      },
      "outputs": [],
      "source": [
        "news = pd.read_parquet('/content/drive/MyDrive/Диссертация/Парсеры сайтов/tg_comps_raw_1,5sigma_.parquet')\n",
        "# news['message'] = news['title'] + ' ' + news['announce']\n",
        "# news = news[news['message'] != ' '].copy()\n",
        "# news.drop(columns=['link', 'title', 'announce', 'text'], inplace=True)\n",
        "news.dropna(subset=['message'],inplace=True)\n",
        "\n",
        "news_train = news[news.date < '2021-01-01'].copy()\n",
        "news_val = news[(news.date > '2021-01-01') & (news.date < '2021-06-01')].copy()\n",
        "news_test = news[(news.date < '2022-01-01') & (news.date > '2021-06-01')].copy()"
      ]
    },
    {
      "cell_type": "code",
      "execution_count": null,
      "metadata": {
        "colab": {
          "base_uri": "https://localhost:8080/",
          "height": 1000,
          "referenced_widgets": [
            "0ae678208ab149dfbcd6fdfbf8c2b2cc",
            "679716dbd6ee46d5bf2f3ee99c199092",
            "3ab582f4bc2d4c4ba621f85ece00ecb8",
            "b742342cb14f4dd893abec2d24746049",
            "b873b56b6e4145eeadde5fdd22fcc0f2",
            "399648071abd4cb7b0a626573b06c459",
            "bdef70320fc647d7a5a1a8147e6cffe4",
            "c7f07478cea74d689296508a3eed342d",
            "849fe946e3f742b2b0a537cf31297747",
            "b9f424b6276a43908a098cc42b2f8987",
            "833d899205bb4488b889d0a6d5abfaf0"
          ]
        },
        "id": "Dfdv6mZVxiX3",
        "outputId": "0f658323-b1a4-42ab-d0cd-fc378d264487"
      },
      "outputs": [
        {
          "metadata": {
            "tags": null
          },
          "name": "stdout",
          "output_type": "stream",
          "text": [
            "NVTK\n",
            "NVTK_10_min_mean\n"
          ]
        },
        {
          "data": {
            "application/vnd.jupyter.widget-view+json": {
              "model_id": "0ae678208ab149dfbcd6fdfbf8c2b2cc",
              "version_major": 2,
              "version_minor": 0
            },
            "text/plain": [
              "Downloading pytorch_model.bin:   0%|          | 0.00/542M [00:00<?, ?B/s]"
            ]
          },
          "metadata": {},
          "output_type": "display_data"
        },
        {
          "metadata": {
            "tags": null
          },
          "name": "stderr",
          "output_type": "stream",
          "text": [
            "Some weights of the model checkpoint at DeepPavlov/distilrubert-base-cased-conversational were not used when initializing DistilBertModel: ['vocab_projector.bias', 'vocab_transform.bias', 'vocab_projector.weight', 'vocab_layer_norm.bias', 'vocab_transform.weight', 'vocab_layer_norm.weight']\n",
            "- This IS expected if you are initializing DistilBertModel from the checkpoint of a model trained on another task or with another architecture (e.g. initializing a BertForSequenceClassification model from a BertForPreTraining model).\n",
            "- This IS NOT expected if you are initializing DistilBertModel from the checkpoint of a model that you expect to be exactly identical (initializing a BertForSequenceClassification model from a BertForSequenceClassification model).\n",
            "100%|██████████| 104/104 [02:26<00:00,  1.41s/it]\n",
            "100%|██████████| 19/19 [00:10<00:00,  1.89it/s]\n"
          ]
        },
        {
          "metadata": {
            "tags": null
          },
          "name": "stdout",
          "output_type": "stream",
          "text": [
            "Epoch: 1  |  Train Loss: 0.69544  |  Test Loss: 0.69522\n",
            "Val acc: 0.5329\n",
            "Val pre: 0.5329\n",
            "Val rec: 1.0000\n",
            "Val f1: 0.6953\n",
            "Val auc: 0.4701\n",
            "Val kappa: 0.0000\n"
          ]
        },
        {
          "metadata": {
            "tags": null
          },
          "name": "stderr",
          "output_type": "stream",
          "text": [
            "100%|██████████| 104/104 [02:31<00:00,  1.46s/it]\n",
            "100%|██████████| 19/19 [00:10<00:00,  1.82it/s]\n"
          ]
        },
        {
          "metadata": {
            "tags": null
          },
          "name": "stdout",
          "output_type": "stream",
          "text": [
            "Epoch: 2  |  Train Loss: 0.69031  |  Test Loss: 0.70761\n",
            "Val acc: 0.5329\n",
            "Val pre: 0.5329\n",
            "Val rec: 1.0000\n",
            "Val f1: 0.6953\n",
            "Val auc: 0.4634\n",
            "Val kappa: 0.0000\n"
          ]
        },
        {
          "metadata": {
            "tags": null
          },
          "name": "stderr",
          "output_type": "stream",
          "text": [
            "100%|██████████| 104/104 [02:34<00:00,  1.48s/it]\n",
            "100%|██████████| 19/19 [00:10<00:00,  1.80it/s]\n"
          ]
        },
        {
          "metadata": {
            "tags": null
          },
          "name": "stdout",
          "output_type": "stream",
          "text": [
            "Epoch: 3  |  Train Loss: 0.68235  |  Test Loss: 0.71836\n",
            "Val acc: 0.4836\n",
            "Val pre: 0.5153\n",
            "Val rec: 0.5185\n",
            "Val f1: 0.5169\n",
            "Val auc: 0.4753\n",
            "Val kappa: -0.0378\n"
          ]
        },
        {
          "metadata": {
            "tags": null
          },
          "name": "stderr",
          "output_type": "stream",
          "text": [
            "100%|██████████| 104/104 [02:35<00:00,  1.49s/it]\n",
            "100%|██████████| 19/19 [00:10<00:00,  1.79it/s]\n"
          ]
        },
        {
          "metadata": {
            "tags": null
          },
          "name": "stdout",
          "output_type": "stream",
          "text": [
            "Epoch: 4  |  Train Loss: 0.62295  |  Test Loss: 0.80239\n",
            "Val acc: 0.4967\n",
            "Val pre: 0.5259\n",
            "Val rec: 0.5648\n",
            "Val f1: 0.5446\n",
            "Val auc: 0.4700\n",
            "Val kappa: -0.0163\n"
          ]
        },
        {
          "metadata": {
            "tags": null
          },
          "name": "stderr",
          "output_type": "stream",
          "text": [
            "100%|██████████| 104/104 [02:35<00:00,  1.49s/it]\n",
            "100%|██████████| 19/19 [00:10<00:00,  1.79it/s]\n"
          ]
        },
        {
          "metadata": {
            "tags": null
          },
          "name": "stdout",
          "output_type": "stream",
          "text": [
            "Epoch: 5  |  Train Loss: 0.42090  |  Test Loss: 1.08514\n",
            "Val acc: 0.4934\n",
            "Val pre: 0.5241\n",
            "Val rec: 0.5370\n",
            "Val f1: 0.5305\n",
            "Val auc: 0.4652\n",
            "Val kappa: -0.0193\n"
          ]
        },
        {
          "metadata": {
            "tags": null
          },
          "name": "stderr",
          "output_type": "stream",
          "text": [
            "100%|██████████| 104/104 [02:35<00:00,  1.49s/it]\n",
            "100%|██████████| 19/19 [00:10<00:00,  1.79it/s]\n"
          ]
        },
        {
          "metadata": {
            "tags": null
          },
          "name": "stdout",
          "output_type": "stream",
          "text": [
            "Epoch: 6  |  Train Loss: 0.25783  |  Test Loss: 1.53835\n",
            "Val acc: 0.4622\n",
            "Val pre: 0.4960\n",
            "Val rec: 0.5679\n",
            "Val f1: 0.5295\n",
            "Val auc: 0.4525\n",
            "Val kappa: -0.0915\n"
          ]
        },
        {
          "metadata": {
            "tags": null
          },
          "name": "stderr",
          "output_type": "stream",
          "text": [
            "100%|██████████| 104/104 [02:35<00:00,  1.49s/it]\n",
            "100%|██████████| 19/19 [00:10<00:00,  1.79it/s]\n"
          ]
        },
        {
          "metadata": {
            "tags": null
          },
          "name": "stdout",
          "output_type": "stream",
          "text": [
            "Epoch: 7  |  Train Loss: 0.17324  |  Test Loss: 1.84238\n",
            "Val acc: 0.4836\n",
            "Val pre: 0.5126\n",
            "Val rec: 0.6265\n",
            "Val f1: 0.5639\n",
            "Val auc: 0.4585\n",
            "Val kappa: -0.0539\n"
          ]
        },
        {
          "metadata": {
            "tags": null
          },
          "name": "stderr",
          "output_type": "stream",
          "text": [
            "100%|██████████| 104/104 [02:35<00:00,  1.49s/it]\n",
            "100%|██████████| 19/19 [00:10<00:00,  1.79it/s]\n"
          ]
        },
        {
          "metadata": {
            "tags": null
          },
          "name": "stdout",
          "output_type": "stream",
          "text": [
            "Epoch: 8  |  Train Loss: 0.11713  |  Test Loss: 1.98200\n",
            "Val acc: 0.4556\n",
            "Val pre: 0.4904\n",
            "Val rec: 0.5525\n",
            "Val f1: 0.5196\n",
            "Val auc: 0.4583\n",
            "Val kappa: -0.1034\n"
          ]
        },
        {
          "metadata": {
            "tags": null
          },
          "name": "stderr",
          "output_type": "stream",
          "text": [
            "100%|██████████| 31/31 [00:16<00:00,  1.85it/s]\n"
          ]
        },
        {
          "metadata": {
            "tags": null
          },
          "name": "stdout",
          "output_type": "stream",
          "text": [
            "Test loss: 0.6944\n",
            "Test acc: 0.5289\n",
            "Test pre: 0.5289\n",
            "Test rec: 1.0000\n",
            "Test f1: 0.6918\n",
            "Test auc: 0.4883\n",
            "Test kappa: 0.0000\n",
            "NVTK_15_min_mean\n"
          ]
        },
        {
          "metadata": {
            "tags": null
          },
          "name": "stderr",
          "output_type": "stream",
          "text": [
            "Some weights of the model checkpoint at DeepPavlov/distilrubert-base-cased-conversational were not used when initializing DistilBertModel: ['vocab_projector.bias', 'vocab_transform.bias', 'vocab_projector.weight', 'vocab_layer_norm.bias', 'vocab_transform.weight', 'vocab_layer_norm.weight']\n",
            "- This IS expected if you are initializing DistilBertModel from the checkpoint of a model trained on another task or with another architecture (e.g. initializing a BertForSequenceClassification model from a BertForPreTraining model).\n",
            "- This IS NOT expected if you are initializing DistilBertModel from the checkpoint of a model that you expect to be exactly identical (initializing a BertForSequenceClassification model from a BertForSequenceClassification model).\n",
            "100%|██████████| 104/104 [02:35<00:00,  1.49s/it]\n",
            "100%|██████████| 19/19 [00:10<00:00,  1.80it/s]\n"
          ]
        },
        {
          "metadata": {
            "tags": null
          },
          "name": "stdout",
          "output_type": "stream",
          "text": [
            "Epoch: 1  |  Train Loss: 0.69488  |  Test Loss: 0.69504\n",
            "Val acc: 0.5280\n",
            "Val pre: 0.5280\n",
            "Val rec: 1.0000\n",
            "Val f1: 0.6911\n",
            "Val auc: 0.4451\n",
            "Val kappa: 0.0000\n"
          ]
        },
        {
          "metadata": {
            "tags": null
          },
          "name": "stderr",
          "output_type": "stream",
          "text": [
            "100%|██████████| 104/104 [02:34<00:00,  1.49s/it]\n",
            "100%|██████████| 19/19 [00:10<00:00,  1.80it/s]\n"
          ]
        },
        {
          "metadata": {
            "tags": null
          },
          "name": "stdout",
          "output_type": "stream",
          "text": [
            "Epoch: 2  |  Train Loss: 0.69131  |  Test Loss: 0.69889\n",
            "Val acc: 0.4572\n",
            "Val pre: 0.4842\n",
            "Val rec: 0.4299\n",
            "Val f1: 0.4554\n",
            "Val auc: 0.4582\n",
            "Val kappa: -0.0817\n"
          ]
        },
        {
          "metadata": {
            "tags": null
          },
          "name": "stderr",
          "output_type": "stream",
          "text": [
            "100%|██████████| 104/104 [02:35<00:00,  1.49s/it]\n",
            "100%|██████████| 19/19 [00:10<00:00,  1.80it/s]\n"
          ]
        },
        {
          "metadata": {
            "tags": null
          },
          "name": "stdout",
          "output_type": "stream",
          "text": [
            "Epoch: 3  |  Train Loss: 0.68610  |  Test Loss: 0.69929\n",
            "Val acc: 0.5033\n",
            "Val pre: 0.5262\n",
            "Val rec: 0.5950\n",
            "Val f1: 0.5585\n",
            "Val auc: 0.4797\n",
            "Val kappa: -0.0043\n"
          ]
        },
        {
          "metadata": {
            "tags": null
          },
          "name": "stderr",
          "output_type": "stream",
          "text": [
            "100%|██████████| 104/104 [02:35<00:00,  1.49s/it]\n",
            "100%|██████████| 19/19 [00:10<00:00,  1.80it/s]\n"
          ]
        },
        {
          "metadata": {
            "tags": null
          },
          "name": "stdout",
          "output_type": "stream",
          "text": [
            "Epoch: 4  |  Train Loss: 0.65944  |  Test Loss: 0.81776\n",
            "Val acc: 0.4424\n",
            "Val pre: 0.4758\n",
            "Val rec: 0.5514\n",
            "Val f1: 0.5108\n",
            "Val auc: 0.4290\n",
            "Val kappa: -0.1293\n"
          ]
        },
        {
          "output_type": "stream",
          "name": "stderr",
          "text": [
            "100%|██████████| 104/104 [02:35<00:00,  1.49s/it]\n",
            "100%|██████████| 19/19 [00:10<00:00,  1.79it/s]\n"
          ]
        },
        {
          "output_type": "stream",
          "name": "stdout",
          "text": [
            "Epoch: 5  |  Train Loss: 0.52463  |  Test Loss: 0.98072\n",
            "Val acc: 0.4490\n",
            "Val pre: 0.4733\n",
            "Val rec: 0.3863\n",
            "Val f1: 0.4254\n",
            "Val auc: 0.4377\n",
            "Val kappa: -0.0935\n"
          ]
        },
        {
          "output_type": "stream",
          "name": "stderr",
          "text": [
            "100%|██████████| 104/104 [02:35<00:00,  1.49s/it]\n",
            "100%|██████████| 19/19 [00:10<00:00,  1.79it/s]\n"
          ]
        },
        {
          "output_type": "stream",
          "name": "stdout",
          "text": [
            "Epoch: 6  |  Train Loss: 0.33296  |  Test Loss: 1.26313\n",
            "Val acc: 0.4457\n",
            "Val pre: 0.4735\n",
            "Val rec: 0.4455\n",
            "Val f1: 0.4591\n",
            "Val auc: 0.4318\n",
            "Val kappa: -0.1081\n"
          ]
        },
        {
          "output_type": "stream",
          "name": "stderr",
          "text": [
            "100%|██████████| 104/104 [02:35<00:00,  1.49s/it]\n",
            "100%|██████████| 19/19 [00:10<00:00,  1.79it/s]\n"
          ]
        },
        {
          "output_type": "stream",
          "name": "stdout",
          "text": [
            "Epoch: 7  |  Train Loss: 0.21493  |  Test Loss: 1.67678\n",
            "Val acc: 0.4457\n",
            "Val pre: 0.4755\n",
            "Val rec: 0.4829\n",
            "Val f1: 0.4791\n",
            "Val auc: 0.4395\n",
            "Val kappa: -0.1131\n"
          ]
        },
        {
          "output_type": "stream",
          "name": "stderr",
          "text": [
            "100%|██████████| 104/104 [02:35<00:00,  1.49s/it]\n",
            "100%|██████████| 19/19 [00:10<00:00,  1.79it/s]\n"
          ]
        },
        {
          "output_type": "stream",
          "name": "stdout",
          "text": [
            "Epoch: 8  |  Train Loss: 0.15509  |  Test Loss: 1.93452\n",
            "Val acc: 0.4539\n",
            "Val pre: 0.4830\n",
            "Val rec: 0.4860\n",
            "Val f1: 0.4845\n",
            "Val auc: 0.4423\n",
            "Val kappa: -0.0959\n"
          ]
        },
        {
          "output_type": "stream",
          "name": "stderr",
          "text": [
            "100%|██████████| 31/31 [00:16<00:00,  1.86it/s]\n"
          ]
        },
        {
          "output_type": "stream",
          "name": "stdout",
          "text": [
            "Test loss: 0.6930\n",
            "Test acc: 0.5258\n",
            "Test pre: 0.5258\n",
            "Test rec: 1.0000\n",
            "Test f1: 0.6892\n",
            "Test auc: 0.4818\n",
            "Test kappa: 0.0000\n",
            "NVTK_30_min_mean\n"
          ]
        },
        {
          "output_type": "stream",
          "name": "stderr",
          "text": [
            "Some weights of the model checkpoint at DeepPavlov/distilrubert-base-cased-conversational were not used when initializing DistilBertModel: ['vocab_projector.bias', 'vocab_transform.bias', 'vocab_projector.weight', 'vocab_layer_norm.bias', 'vocab_transform.weight', 'vocab_layer_norm.weight']\n",
            "- This IS expected if you are initializing DistilBertModel from the checkpoint of a model trained on another task or with another architecture (e.g. initializing a BertForSequenceClassification model from a BertForPreTraining model).\n",
            "- This IS NOT expected if you are initializing DistilBertModel from the checkpoint of a model that you expect to be exactly identical (initializing a BertForSequenceClassification model from a BertForSequenceClassification model).\n",
            "100%|██████████| 104/104 [02:35<00:00,  1.49s/it]\n",
            "100%|██████████| 19/19 [00:10<00:00,  1.81it/s]\n"
          ]
        },
        {
          "output_type": "stream",
          "name": "stdout",
          "text": [
            "Epoch: 1  |  Train Loss: 0.69363  |  Test Loss: 0.69890\n",
            "Val acc: 0.4951\n",
            "Val pre: 0.4951\n",
            "Val rec: 1.0000\n",
            "Val f1: 0.6623\n",
            "Val auc: 0.4731\n",
            "Val kappa: 0.0000\n"
          ]
        },
        {
          "output_type": "stream",
          "name": "stderr",
          "text": [
            "100%|██████████| 104/104 [02:34<00:00,  1.49s/it]\n",
            "100%|██████████| 19/19 [00:10<00:00,  1.81it/s]\n"
          ]
        },
        {
          "output_type": "stream",
          "name": "stdout",
          "text": [
            "Epoch: 2  |  Train Loss: 0.68970  |  Test Loss: 0.71258\n",
            "Val acc: 0.4688\n",
            "Val pre: 0.4688\n",
            "Val rec: 0.5482\n",
            "Val f1: 0.5054\n",
            "Val auc: 0.4813\n",
            "Val kappa: -0.0608\n"
          ]
        },
        {
          "output_type": "stream",
          "name": "stderr",
          "text": [
            "100%|██████████| 104/104 [02:34<00:00,  1.49s/it]\n",
            "100%|██████████| 19/19 [00:10<00:00,  1.81it/s]\n"
          ]
        },
        {
          "output_type": "stream",
          "name": "stdout",
          "text": [
            "Epoch: 3  |  Train Loss: 0.68460  |  Test Loss: 0.69602\n",
            "Val acc: 0.4605\n",
            "Val pre: 0.4702\n",
            "Val rec: 0.7076\n",
            "Val f1: 0.5650\n",
            "Val auc: 0.4772\n",
            "Val kappa: -0.0738\n"
          ]
        },
        {
          "output_type": "stream",
          "name": "stderr",
          "text": [
            "100%|██████████| 104/104 [02:34<00:00,  1.49s/it]\n",
            "100%|██████████| 19/19 [00:10<00:00,  1.80it/s]\n"
          ]
        },
        {
          "output_type": "stream",
          "name": "stdout",
          "text": [
            "Epoch: 4  |  Train Loss: 0.65777  |  Test Loss: 0.78899\n",
            "Val acc: 0.4539\n",
            "Val pre: 0.4514\n",
            "Val rec: 0.4784\n",
            "Val f1: 0.4645\n",
            "Val auc: 0.4559\n",
            "Val kappa: -0.0916\n"
          ]
        },
        {
          "output_type": "stream",
          "name": "stderr",
          "text": [
            "100%|██████████| 104/104 [02:34<00:00,  1.49s/it]\n",
            "100%|██████████| 19/19 [00:10<00:00,  1.80it/s]\n"
          ]
        },
        {
          "output_type": "stream",
          "name": "stdout",
          "text": [
            "Epoch: 5  |  Train Loss: 0.49742  |  Test Loss: 1.07071\n",
            "Val acc: 0.4622\n",
            "Val pre: 0.4581\n",
            "Val rec: 0.4718\n",
            "Val f1: 0.4648\n",
            "Val auc: 0.4502\n",
            "Val kappa: -0.0754\n"
          ]
        },
        {
          "output_type": "stream",
          "name": "stderr",
          "text": [
            "100%|██████████| 104/104 [02:34<00:00,  1.49s/it]\n",
            "100%|██████████| 19/19 [00:10<00:00,  1.80it/s]\n"
          ]
        },
        {
          "output_type": "stream",
          "name": "stdout",
          "text": [
            "Epoch: 6  |  Train Loss: 0.33423  |  Test Loss: 1.43864\n",
            "Val acc: 0.4474\n",
            "Val pre: 0.4426\n",
            "Val rec: 0.4485\n",
            "Val f1: 0.4455\n",
            "Val auc: 0.4313\n",
            "Val kappa: -0.1052\n"
          ]
        },
        {
          "output_type": "stream",
          "name": "stderr",
          "text": [
            "100%|██████████| 104/104 [02:34<00:00,  1.49s/it]\n",
            "100%|██████████| 19/19 [00:10<00:00,  1.80it/s]\n"
          ]
        },
        {
          "output_type": "stream",
          "name": "stdout",
          "text": [
            "Epoch: 7  |  Train Loss: 0.22371  |  Test Loss: 1.59398\n",
            "Val acc: 0.4688\n",
            "Val pre: 0.4737\n",
            "Val rec: 0.6578\n",
            "Val f1: 0.5508\n",
            "Val auc: 0.4476\n",
            "Val kappa: -0.0586\n"
          ]
        },
        {
          "output_type": "stream",
          "name": "stderr",
          "text": [
            "100%|██████████| 104/104 [02:34<00:00,  1.49s/it]\n",
            "100%|██████████| 19/19 [00:10<00:00,  1.80it/s]\n"
          ]
        },
        {
          "output_type": "stream",
          "name": "stdout",
          "text": [
            "Epoch: 8  |  Train Loss: 0.17576  |  Test Loss: 1.85098\n",
            "Val acc: 0.4688\n",
            "Val pre: 0.4711\n",
            "Val rec: 0.5947\n",
            "Val f1: 0.5257\n",
            "Val auc: 0.4485\n",
            "Val kappa: -0.0599\n"
          ]
        },
        {
          "output_type": "stream",
          "name": "stderr",
          "text": [
            "100%|██████████| 31/31 [00:16<00:00,  1.87it/s]\n"
          ]
        },
        {
          "output_type": "stream",
          "name": "stdout",
          "text": [
            "Test loss: 0.6940\n",
            "Test acc: 0.5268\n",
            "Test pre: 0.5268\n",
            "Test rec: 1.0000\n",
            "Test f1: 0.6901\n",
            "Test auc: 0.4727\n",
            "Test kappa: 0.0000\n",
            "NVTK_1_hour_mean\n"
          ]
        },
        {
          "output_type": "stream",
          "name": "stderr",
          "text": [
            "Some weights of the model checkpoint at DeepPavlov/distilrubert-base-cased-conversational were not used when initializing DistilBertModel: ['vocab_projector.bias', 'vocab_transform.bias', 'vocab_projector.weight', 'vocab_layer_norm.bias', 'vocab_transform.weight', 'vocab_layer_norm.weight']\n",
            "- This IS expected if you are initializing DistilBertModel from the checkpoint of a model trained on another task or with another architecture (e.g. initializing a BertForSequenceClassification model from a BertForPreTraining model).\n",
            "- This IS NOT expected if you are initializing DistilBertModel from the checkpoint of a model that you expect to be exactly identical (initializing a BertForSequenceClassification model from a BertForSequenceClassification model).\n",
            "100%|██████████| 104/104 [02:35<00:00,  1.49s/it]\n",
            "100%|██████████| 19/19 [00:10<00:00,  1.80it/s]\n"
          ]
        },
        {
          "output_type": "stream",
          "name": "stdout",
          "text": [
            "Epoch: 1  |  Train Loss: 0.69588  |  Test Loss: 0.69795\n",
            "Val acc: 0.4309\n",
            "Val pre: 0.3851\n",
            "Val rec: 0.4559\n",
            "Val f1: 0.4175\n",
            "Val auc: 0.4132\n",
            "Val kappa: -0.1311\n"
          ]
        },
        {
          "output_type": "stream",
          "name": "stderr",
          "text": [
            "100%|██████████| 104/104 [02:34<00:00,  1.49s/it]\n",
            "100%|██████████| 19/19 [00:10<00:00,  1.80it/s]\n"
          ]
        },
        {
          "output_type": "stream",
          "name": "stdout",
          "text": [
            "Epoch: 2  |  Train Loss: 0.69036  |  Test Loss: 0.71161\n",
            "Val acc: 0.4293\n",
            "Val pre: 0.3762\n",
            "Val rec: 0.4191\n",
            "Val f1: 0.3965\n",
            "Val auc: 0.4181\n",
            "Val kappa: -0.1418\n"
          ]
        },
        {
          "output_type": "stream",
          "name": "stderr",
          "text": [
            "100%|██████████| 104/104 [02:35<00:00,  1.49s/it]\n",
            "100%|██████████| 19/19 [00:10<00:00,  1.79it/s]\n"
          ]
        },
        {
          "output_type": "stream",
          "name": "stdout",
          "text": [
            "Epoch: 3  |  Train Loss: 0.68620  |  Test Loss: 0.73772\n",
            "Val acc: 0.4474\n",
            "Val pre: 0.4474\n",
            "Val rec: 1.0000\n",
            "Val f1: 0.6182\n",
            "Val auc: 0.4590\n",
            "Val kappa: 0.0000\n"
          ]
        },
        {
          "output_type": "stream",
          "name": "stderr",
          "text": [
            "100%|██████████| 104/104 [02:35<00:00,  1.49s/it]\n",
            "100%|██████████| 19/19 [00:10<00:00,  1.79it/s]\n"
          ]
        },
        {
          "output_type": "stream",
          "name": "stdout",
          "text": [
            "Epoch: 4  |  Train Loss: 0.64912  |  Test Loss: 0.77903\n",
            "Val acc: 0.4326\n",
            "Val pre: 0.3983\n",
            "Val rec: 0.5257\n",
            "Val f1: 0.4532\n",
            "Val auc: 0.4452\n",
            "Val kappa: -0.1137\n"
          ]
        },
        {
          "output_type": "stream",
          "name": "stderr",
          "text": [
            "100%|██████████| 104/104 [02:35<00:00,  1.49s/it]\n",
            "100%|██████████| 19/19 [00:10<00:00,  1.79it/s]\n"
          ]
        },
        {
          "output_type": "stream",
          "name": "stdout",
          "text": [
            "Epoch: 5  |  Train Loss: 0.43656  |  Test Loss: 1.13962\n",
            "Val acc: 0.4309\n",
            "Val pre: 0.4223\n",
            "Val rec: 0.7390\n",
            "Val f1: 0.5374\n",
            "Val auc: 0.4615\n",
            "Val kappa: -0.0742\n"
          ]
        },
        {
          "output_type": "stream",
          "name": "stderr",
          "text": [
            "100%|██████████| 104/104 [02:35<00:00,  1.49s/it]\n",
            "100%|██████████| 19/19 [00:10<00:00,  1.79it/s]\n"
          ]
        },
        {
          "output_type": "stream",
          "name": "stdout",
          "text": [
            "Epoch: 6  |  Train Loss: 0.27048  |  Test Loss: 1.48745\n",
            "Val acc: 0.4474\n",
            "Val pre: 0.4252\n",
            "Val rec: 0.6691\n",
            "Val f1: 0.5200\n",
            "Val auc: 0.4900\n",
            "Val kappa: -0.0598\n"
          ]
        },
        {
          "output_type": "stream",
          "name": "stderr",
          "text": [
            "100%|██████████| 104/104 [02:35<00:00,  1.49s/it]\n",
            "100%|██████████| 19/19 [00:10<00:00,  1.80it/s]\n"
          ]
        },
        {
          "output_type": "stream",
          "name": "stdout",
          "text": [
            "Epoch: 7  |  Train Loss: 0.17800  |  Test Loss: 1.76662\n",
            "Val acc: 0.4622\n",
            "Val pre: 0.4282\n",
            "Val rec: 0.6029\n",
            "Val f1: 0.5008\n",
            "Val auc: 0.4739\n",
            "Val kappa: -0.0470\n"
          ]
        },
        {
          "output_type": "stream",
          "name": "stderr",
          "text": [
            "100%|██████████| 104/104 [02:35<00:00,  1.49s/it]\n",
            "100%|██████████| 19/19 [00:10<00:00,  1.79it/s]\n"
          ]
        },
        {
          "output_type": "stream",
          "name": "stdout",
          "text": [
            "Epoch: 8  |  Train Loss: 0.11756  |  Test Loss: 2.11868\n",
            "Val acc: 0.4441\n",
            "Val pre: 0.4158\n",
            "Val rec: 0.5993\n",
            "Val f1: 0.4910\n",
            "Val auc: 0.4664\n",
            "Val kappa: -0.0790\n"
          ]
        },
        {
          "output_type": "stream",
          "name": "stderr",
          "text": [
            "100%|██████████| 31/31 [00:16<00:00,  1.85it/s]\n"
          ]
        },
        {
          "output_type": "stream",
          "name": "stdout",
          "text": [
            "Test loss: 1.5392\n",
            "Test acc: 0.5165\n",
            "Test pre: 0.5186\n",
            "Test rec: 0.6232\n",
            "Test f1: 0.5661\n",
            "Test auc: 0.5173\n",
            "Test kappa: 0.0304\n",
            "NVTK_1_day_mean\n"
          ]
        },
        {
          "output_type": "stream",
          "name": "stderr",
          "text": [
            "Some weights of the model checkpoint at DeepPavlov/distilrubert-base-cased-conversational were not used when initializing DistilBertModel: ['vocab_projector.bias', 'vocab_transform.bias', 'vocab_projector.weight', 'vocab_layer_norm.bias', 'vocab_transform.weight', 'vocab_layer_norm.weight']\n",
            "- This IS expected if you are initializing DistilBertModel from the checkpoint of a model trained on another task or with another architecture (e.g. initializing a BertForSequenceClassification model from a BertForPreTraining model).\n",
            "- This IS NOT expected if you are initializing DistilBertModel from the checkpoint of a model that you expect to be exactly identical (initializing a BertForSequenceClassification model from a BertForSequenceClassification model).\n",
            "100%|██████████| 104/104 [02:34<00:00,  1.49s/it]\n",
            "100%|██████████| 19/19 [00:10<00:00,  1.81it/s]\n"
          ]
        },
        {
          "output_type": "stream",
          "name": "stdout",
          "text": [
            "Epoch: 1  |  Train Loss: 0.69698  |  Test Loss: 0.69049\n",
            "Val acc: 0.5806\n",
            "Val pre: 0.5607\n",
            "Val rec: 0.4718\n",
            "Val f1: 0.5124\n",
            "Val auc: 0.5787\n",
            "Val kappa: 0.1492\n"
          ]
        },
        {
          "output_type": "stream",
          "name": "stderr",
          "text": [
            "100%|██████████| 104/104 [02:34<00:00,  1.49s/it]\n",
            "100%|██████████| 19/19 [00:10<00:00,  1.82it/s]\n"
          ]
        },
        {
          "output_type": "stream",
          "name": "stdout",
          "text": [
            "Epoch: 2  |  Train Loss: 0.69203  |  Test Loss: 0.70158\n",
            "Val acc: 0.4688\n",
            "Val pre: 0.4668\n",
            "Val rec: 0.9648\n",
            "Val f1: 0.6292\n",
            "Val auc: 0.4947\n",
            "Val kappa: -0.0012\n"
          ]
        },
        {
          "output_type": "stream",
          "name": "stderr",
          "text": [
            "100%|██████████| 104/104 [02:34<00:00,  1.49s/it]\n",
            "100%|██████████| 19/19 [00:10<00:00,  1.82it/s]\n"
          ]
        },
        {
          "output_type": "stream",
          "name": "stdout",
          "text": [
            "Epoch: 3  |  Train Loss: 0.69101  |  Test Loss: 0.68985\n",
            "Val acc: 0.5461\n",
            "Val pre: 0.5312\n",
            "Val rec: 0.2394\n",
            "Val f1: 0.3301\n",
            "Val auc: 0.5530\n",
            "Val kappa: 0.0562\n"
          ]
        },
        {
          "output_type": "stream",
          "name": "stderr",
          "text": [
            "100%|██████████| 104/104 [02:34<00:00,  1.48s/it]\n",
            "100%|██████████| 19/19 [00:10<00:00,  1.83it/s]\n"
          ]
        },
        {
          "output_type": "stream",
          "name": "stdout",
          "text": [
            "Epoch: 4  |  Train Loss: 0.68515  |  Test Loss: 0.69231\n",
            "Val acc: 0.5329\n",
            "Val pre: 0.5000\n",
            "Val rec: 0.1479\n",
            "Val f1: 0.2283\n",
            "Val auc: 0.5042\n",
            "Val kappa: 0.0191\n"
          ]
        },
        {
          "output_type": "stream",
          "name": "stderr",
          "text": [
            "100%|██████████| 104/104 [02:34<00:00,  1.48s/it]\n",
            "100%|██████████| 19/19 [00:10<00:00,  1.82it/s]\n"
          ]
        },
        {
          "output_type": "stream",
          "name": "stdout",
          "text": [
            "Epoch: 5  |  Train Loss: 0.67753  |  Test Loss: 0.70437\n",
            "Val acc: 0.5329\n",
            "Val pre: 0.5000\n",
            "Val rec: 0.1690\n",
            "Val f1: 0.2526\n",
            "Val auc: 0.4819\n",
            "Val kappa: 0.0218\n"
          ]
        },
        {
          "output_type": "stream",
          "name": "stderr",
          "text": [
            "100%|██████████| 104/104 [02:34<00:00,  1.49s/it]\n",
            "100%|██████████| 19/19 [00:10<00:00,  1.81it/s]\n"
          ]
        },
        {
          "output_type": "stream",
          "name": "stdout",
          "text": [
            "Epoch: 6  |  Train Loss: 0.66855  |  Test Loss: 0.70075\n",
            "Val acc: 0.4951\n",
            "Val pre: 0.4700\n",
            "Val rec: 0.6338\n",
            "Val f1: 0.5397\n",
            "Val auc: 0.5086\n",
            "Val kappa: 0.0071\n"
          ]
        },
        {
          "output_type": "stream",
          "name": "stderr",
          "text": [
            "100%|██████████| 104/104 [02:34<00:00,  1.49s/it]\n",
            "100%|██████████| 19/19 [00:10<00:00,  1.81it/s]\n"
          ]
        },
        {
          "output_type": "stream",
          "name": "stdout",
          "text": [
            "Epoch: 7  |  Train Loss: 0.62756  |  Test Loss: 0.74262\n",
            "Val acc: 0.4934\n",
            "Val pre: 0.4657\n",
            "Val rec: 0.5739\n",
            "Val f1: 0.5142\n",
            "Val auc: 0.5022\n",
            "Val kappa: -0.0032\n"
          ]
        },
        {
          "output_type": "stream",
          "name": "stderr",
          "text": [
            "100%|██████████| 104/104 [02:34<00:00,  1.49s/it]\n",
            "100%|██████████| 19/19 [00:10<00:00,  1.81it/s]\n"
          ]
        },
        {
          "output_type": "stream",
          "name": "stdout",
          "text": [
            "Epoch: 8  |  Train Loss: 0.51968  |  Test Loss: 0.85978\n",
            "Val acc: 0.5082\n",
            "Val pre: 0.4681\n",
            "Val rec: 0.3873\n",
            "Val f1: 0.4239\n",
            "Val auc: 0.4927\n",
            "Val kappa: 0.0015\n"
          ]
        },
        {
          "output_type": "stream",
          "name": "stderr",
          "text": [
            "100%|██████████| 31/31 [00:16<00:00,  1.87it/s]\n"
          ]
        },
        {
          "output_type": "stream",
          "name": "stdout",
          "text": [
            "Test loss: 0.6949\n",
            "Test acc: 0.4732\n",
            "Test pre: 0.5589\n",
            "Test rec: 0.3040\n",
            "Test f1: 0.3938\n",
            "Test auc: 0.4762\n",
            "Test kappa: -0.0046\n"
          ]
        }
      ],
      "source": [
        "loggs = pd.DataFrame()\n",
        "device = 'cuda' if torch.cuda.is_available() else 'cpu'\n",
        "\n",
        "# for company in ['LSRG', 'DSKY', 'MOEX', 'MTSS']:\n",
        "for company in ['NVTK']:\n",
        "    print(company)\n",
        "    \n",
        "    first_dates = pd.read_csv(f'/content/drive/MyDrive/Диссертация/Парсеры сайтов/Стоимость акций/1 мин/first_dates.csv', index_col='company')\n",
        "    first_day = pd.to_datetime(first_dates.loc[company,:].values[0])\n",
        "\n",
        "    comp_train = news_train[news_train[company] == True].copy()\n",
        "    comp_val = news_val[news_val[company] == True].copy()\n",
        "    comp_test = news_test[news_test[company] == True].copy()\n",
        "\n",
        "    cols = ['date', 'message'] + [col for col in news_train.columns if f'{company}_' in col]\n",
        "    cols = [col for col in comp_test.columns if f'{company}_' in col]\n",
        "\n",
        "    train_texts, val_texts, test_texts = comp_train['message'].values, comp_val['message'].values, comp_test['message'].values\n",
        "\n",
        "    for col in cols[2:]:\n",
        "      print(col)\n",
        "      train_target, val_target, test_target = comp_train[col].values, comp_val[col].values, comp_test[col].values\n",
        "\n",
        "      batch_size = 32\n",
        "      train_dataset, val_dataset, test_dataset = NewsDataset(train_texts, train_target), NewsDataset(val_texts, val_target), NewsDataset(test_texts, test_target)\n",
        "\n",
        "      train_dataloader = DataLoader(train_dataset, batch_size=batch_size, shuffle=True, drop_last=True)\n",
        "      val_dataloader = DataLoader(val_dataset, batch_size=batch_size)\n",
        "      test_dataloader = DataLoader(test_dataset, batch_size=batch_size)\n",
        "\n",
        "      model = BertClassifier(freeze=False).to(device)\n",
        "\n",
        "      epochs = 8\n",
        "      steps = len(train_dataloader) * epochs\n",
        "      learning_rate = 5e-5\n",
        "      epsilon = 1e-8\n",
        "\n",
        "      loss_function = nn.CrossEntropyLoss()\n",
        "      optimizer = AdamW(model.parameters(), lr=learning_rate, eps=epsilon)\n",
        "      scheduler = get_linear_schedule_with_warmup(optimizer, num_warmup_steps=0, num_training_steps=steps)\n",
        "      \n",
        "      train(epochs, train_dataloader, val_dataloader)\n",
        "      acc, pre, rec, f1, auc, kappa = evaluate(test_dataloader)\n",
        "\n",
        "      loggs[f'{col}'] = [acc, pre, rec, auc, f1, kappa]\n",
        "      loggs.to_csv('/content/drive/MyDrive/Диссертация/tg_loggs/dist_bert_tg_loggs_neutral_magn_chmf_dsky_sngs_nvtk.csv')\n",
        "    \n",
        "      del model\n",
        "      del train_dataset\n",
        "      del val_dataset\n",
        "      del test_dataset\n",
        "      del train_dataloader\n",
        "      del val_dataloader\n",
        "      del test_dataloader\n",
        "      \n",
        "      gc.collect()\n",
        "      torch.cuda.empty_cache()\n",
        "      gc.collect()"
      ]
    }
  ],
  "metadata": {
    "accelerator": "GPU",
    "colab": {
      "provenance": [],
      "gpuType": "T4"
    },
    "gpuClass": "standard",
    "kernelspec": {
      "display_name": "Python 3",
      "name": "python3"
    },
    "language_info": {
      "name": "python"
    },
    "widgets": {
      "application/vnd.jupyter.widget-state+json": {
        "eb51e009ae94457294e08011943d3216": {
          "model_module": "@jupyter-widgets/controls",
          "model_name": "HBoxModel",
          "model_module_version": "1.5.0",
          "state": {
            "_dom_classes": [],
            "_model_module": "@jupyter-widgets/controls",
            "_model_module_version": "1.5.0",
            "_model_name": "HBoxModel",
            "_view_count": null,
            "_view_module": "@jupyter-widgets/controls",
            "_view_module_version": "1.5.0",
            "_view_name": "HBoxView",
            "box_style": "",
            "children": [
              "IPY_MODEL_eda7becdf5814fb0aca8859120d846f1",
              "IPY_MODEL_cb282c81ed6543b783aa192b0e4f8ee1",
              "IPY_MODEL_035a38596b504ea38fd1ca62e0c2d5b4"
            ],
            "layout": "IPY_MODEL_e29c5379afbb4f0594ef25b8d7241b8d"
          }
        },
        "eda7becdf5814fb0aca8859120d846f1": {
          "model_module": "@jupyter-widgets/controls",
          "model_name": "HTMLModel",
          "model_module_version": "1.5.0",
          "state": {
            "_dom_classes": [],
            "_model_module": "@jupyter-widgets/controls",
            "_model_module_version": "1.5.0",
            "_model_name": "HTMLModel",
            "_view_count": null,
            "_view_module": "@jupyter-widgets/controls",
            "_view_module_version": "1.5.0",
            "_view_name": "HTMLView",
            "description": "",
            "description_tooltip": null,
            "layout": "IPY_MODEL_eabb61e5245e482fb342eef0a328d21f",
            "placeholder": "​",
            "style": "IPY_MODEL_0ff37e2e7310497c9318c7338191dc56",
            "value": "Downloading (…)okenizer_config.json: 100%"
          }
        },
        "cb282c81ed6543b783aa192b0e4f8ee1": {
          "model_module": "@jupyter-widgets/controls",
          "model_name": "FloatProgressModel",
          "model_module_version": "1.5.0",
          "state": {
            "_dom_classes": [],
            "_model_module": "@jupyter-widgets/controls",
            "_model_module_version": "1.5.0",
            "_model_name": "FloatProgressModel",
            "_view_count": null,
            "_view_module": "@jupyter-widgets/controls",
            "_view_module_version": "1.5.0",
            "_view_name": "ProgressView",
            "bar_style": "success",
            "description": "",
            "description_tooltip": null,
            "layout": "IPY_MODEL_4e3a3acc82a94838b71fd2d70ff82772",
            "max": 24,
            "min": 0,
            "orientation": "horizontal",
            "style": "IPY_MODEL_7d1bcd71224042ea83934ea9aef2cbd2",
            "value": 24
          }
        },
        "035a38596b504ea38fd1ca62e0c2d5b4": {
          "model_module": "@jupyter-widgets/controls",
          "model_name": "HTMLModel",
          "model_module_version": "1.5.0",
          "state": {
            "_dom_classes": [],
            "_model_module": "@jupyter-widgets/controls",
            "_model_module_version": "1.5.0",
            "_model_name": "HTMLModel",
            "_view_count": null,
            "_view_module": "@jupyter-widgets/controls",
            "_view_module_version": "1.5.0",
            "_view_name": "HTMLView",
            "description": "",
            "description_tooltip": null,
            "layout": "IPY_MODEL_9f3b28b846a04f58b6e8a0c0eaff6779",
            "placeholder": "​",
            "style": "IPY_MODEL_5449055ff2684735becf10d1ae023cd1",
            "value": " 24.0/24.0 [00:00&lt;00:00, 1.30kB/s]"
          }
        },
        "e29c5379afbb4f0594ef25b8d7241b8d": {
          "model_module": "@jupyter-widgets/base",
          "model_name": "LayoutModel",
          "model_module_version": "1.2.0",
          "state": {
            "_model_module": "@jupyter-widgets/base",
            "_model_module_version": "1.2.0",
            "_model_name": "LayoutModel",
            "_view_count": null,
            "_view_module": "@jupyter-widgets/base",
            "_view_module_version": "1.2.0",
            "_view_name": "LayoutView",
            "align_content": null,
            "align_items": null,
            "align_self": null,
            "border": null,
            "bottom": null,
            "display": null,
            "flex": null,
            "flex_flow": null,
            "grid_area": null,
            "grid_auto_columns": null,
            "grid_auto_flow": null,
            "grid_auto_rows": null,
            "grid_column": null,
            "grid_gap": null,
            "grid_row": null,
            "grid_template_areas": null,
            "grid_template_columns": null,
            "grid_template_rows": null,
            "height": null,
            "justify_content": null,
            "justify_items": null,
            "left": null,
            "margin": null,
            "max_height": null,
            "max_width": null,
            "min_height": null,
            "min_width": null,
            "object_fit": null,
            "object_position": null,
            "order": null,
            "overflow": null,
            "overflow_x": null,
            "overflow_y": null,
            "padding": null,
            "right": null,
            "top": null,
            "visibility": null,
            "width": null
          }
        },
        "eabb61e5245e482fb342eef0a328d21f": {
          "model_module": "@jupyter-widgets/base",
          "model_name": "LayoutModel",
          "model_module_version": "1.2.0",
          "state": {
            "_model_module": "@jupyter-widgets/base",
            "_model_module_version": "1.2.0",
            "_model_name": "LayoutModel",
            "_view_count": null,
            "_view_module": "@jupyter-widgets/base",
            "_view_module_version": "1.2.0",
            "_view_name": "LayoutView",
            "align_content": null,
            "align_items": null,
            "align_self": null,
            "border": null,
            "bottom": null,
            "display": null,
            "flex": null,
            "flex_flow": null,
            "grid_area": null,
            "grid_auto_columns": null,
            "grid_auto_flow": null,
            "grid_auto_rows": null,
            "grid_column": null,
            "grid_gap": null,
            "grid_row": null,
            "grid_template_areas": null,
            "grid_template_columns": null,
            "grid_template_rows": null,
            "height": null,
            "justify_content": null,
            "justify_items": null,
            "left": null,
            "margin": null,
            "max_height": null,
            "max_width": null,
            "min_height": null,
            "min_width": null,
            "object_fit": null,
            "object_position": null,
            "order": null,
            "overflow": null,
            "overflow_x": null,
            "overflow_y": null,
            "padding": null,
            "right": null,
            "top": null,
            "visibility": null,
            "width": null
          }
        },
        "0ff37e2e7310497c9318c7338191dc56": {
          "model_module": "@jupyter-widgets/controls",
          "model_name": "DescriptionStyleModel",
          "model_module_version": "1.5.0",
          "state": {
            "_model_module": "@jupyter-widgets/controls",
            "_model_module_version": "1.5.0",
            "_model_name": "DescriptionStyleModel",
            "_view_count": null,
            "_view_module": "@jupyter-widgets/base",
            "_view_module_version": "1.2.0",
            "_view_name": "StyleView",
            "description_width": ""
          }
        },
        "4e3a3acc82a94838b71fd2d70ff82772": {
          "model_module": "@jupyter-widgets/base",
          "model_name": "LayoutModel",
          "model_module_version": "1.2.0",
          "state": {
            "_model_module": "@jupyter-widgets/base",
            "_model_module_version": "1.2.0",
            "_model_name": "LayoutModel",
            "_view_count": null,
            "_view_module": "@jupyter-widgets/base",
            "_view_module_version": "1.2.0",
            "_view_name": "LayoutView",
            "align_content": null,
            "align_items": null,
            "align_self": null,
            "border": null,
            "bottom": null,
            "display": null,
            "flex": null,
            "flex_flow": null,
            "grid_area": null,
            "grid_auto_columns": null,
            "grid_auto_flow": null,
            "grid_auto_rows": null,
            "grid_column": null,
            "grid_gap": null,
            "grid_row": null,
            "grid_template_areas": null,
            "grid_template_columns": null,
            "grid_template_rows": null,
            "height": null,
            "justify_content": null,
            "justify_items": null,
            "left": null,
            "margin": null,
            "max_height": null,
            "max_width": null,
            "min_height": null,
            "min_width": null,
            "object_fit": null,
            "object_position": null,
            "order": null,
            "overflow": null,
            "overflow_x": null,
            "overflow_y": null,
            "padding": null,
            "right": null,
            "top": null,
            "visibility": null,
            "width": null
          }
        },
        "7d1bcd71224042ea83934ea9aef2cbd2": {
          "model_module": "@jupyter-widgets/controls",
          "model_name": "ProgressStyleModel",
          "model_module_version": "1.5.0",
          "state": {
            "_model_module": "@jupyter-widgets/controls",
            "_model_module_version": "1.5.0",
            "_model_name": "ProgressStyleModel",
            "_view_count": null,
            "_view_module": "@jupyter-widgets/base",
            "_view_module_version": "1.2.0",
            "_view_name": "StyleView",
            "bar_color": null,
            "description_width": ""
          }
        },
        "9f3b28b846a04f58b6e8a0c0eaff6779": {
          "model_module": "@jupyter-widgets/base",
          "model_name": "LayoutModel",
          "model_module_version": "1.2.0",
          "state": {
            "_model_module": "@jupyter-widgets/base",
            "_model_module_version": "1.2.0",
            "_model_name": "LayoutModel",
            "_view_count": null,
            "_view_module": "@jupyter-widgets/base",
            "_view_module_version": "1.2.0",
            "_view_name": "LayoutView",
            "align_content": null,
            "align_items": null,
            "align_self": null,
            "border": null,
            "bottom": null,
            "display": null,
            "flex": null,
            "flex_flow": null,
            "grid_area": null,
            "grid_auto_columns": null,
            "grid_auto_flow": null,
            "grid_auto_rows": null,
            "grid_column": null,
            "grid_gap": null,
            "grid_row": null,
            "grid_template_areas": null,
            "grid_template_columns": null,
            "grid_template_rows": null,
            "height": null,
            "justify_content": null,
            "justify_items": null,
            "left": null,
            "margin": null,
            "max_height": null,
            "max_width": null,
            "min_height": null,
            "min_width": null,
            "object_fit": null,
            "object_position": null,
            "order": null,
            "overflow": null,
            "overflow_x": null,
            "overflow_y": null,
            "padding": null,
            "right": null,
            "top": null,
            "visibility": null,
            "width": null
          }
        },
        "5449055ff2684735becf10d1ae023cd1": {
          "model_module": "@jupyter-widgets/controls",
          "model_name": "DescriptionStyleModel",
          "model_module_version": "1.5.0",
          "state": {
            "_model_module": "@jupyter-widgets/controls",
            "_model_module_version": "1.5.0",
            "_model_name": "DescriptionStyleModel",
            "_view_count": null,
            "_view_module": "@jupyter-widgets/base",
            "_view_module_version": "1.2.0",
            "_view_name": "StyleView",
            "description_width": ""
          }
        },
        "5165ecafd5f644f69d6419438d250a7d": {
          "model_module": "@jupyter-widgets/controls",
          "model_name": "HBoxModel",
          "model_module_version": "1.5.0",
          "state": {
            "_dom_classes": [],
            "_model_module": "@jupyter-widgets/controls",
            "_model_module_version": "1.5.0",
            "_model_name": "HBoxModel",
            "_view_count": null,
            "_view_module": "@jupyter-widgets/controls",
            "_view_module_version": "1.5.0",
            "_view_name": "HBoxView",
            "box_style": "",
            "children": [
              "IPY_MODEL_06094132b1b949bd9406644a46f559c3",
              "IPY_MODEL_63f6112e078d435187ad9718d83084fd",
              "IPY_MODEL_fe1caa0622984898b86040bd1be45b55"
            ],
            "layout": "IPY_MODEL_748da7fb101448ccb5622631568e9753"
          }
        },
        "06094132b1b949bd9406644a46f559c3": {
          "model_module": "@jupyter-widgets/controls",
          "model_name": "HTMLModel",
          "model_module_version": "1.5.0",
          "state": {
            "_dom_classes": [],
            "_model_module": "@jupyter-widgets/controls",
            "_model_module_version": "1.5.0",
            "_model_name": "HTMLModel",
            "_view_count": null,
            "_view_module": "@jupyter-widgets/controls",
            "_view_module_version": "1.5.0",
            "_view_name": "HTMLView",
            "description": "",
            "description_tooltip": null,
            "layout": "IPY_MODEL_f778fcb1e48d455cadb582947024698e",
            "placeholder": "​",
            "style": "IPY_MODEL_b398ff506e0c4ad0b81d76e953db6cc2",
            "value": "Downloading (…)lve/main/config.json: 100%"
          }
        },
        "63f6112e078d435187ad9718d83084fd": {
          "model_module": "@jupyter-widgets/controls",
          "model_name": "FloatProgressModel",
          "model_module_version": "1.5.0",
          "state": {
            "_dom_classes": [],
            "_model_module": "@jupyter-widgets/controls",
            "_model_module_version": "1.5.0",
            "_model_name": "FloatProgressModel",
            "_view_count": null,
            "_view_module": "@jupyter-widgets/controls",
            "_view_module_version": "1.5.0",
            "_view_name": "ProgressView",
            "bar_style": "success",
            "description": "",
            "description_tooltip": null,
            "layout": "IPY_MODEL_55ccb5f1e85544f4b1dd68f479a493bb",
            "max": 538,
            "min": 0,
            "orientation": "horizontal",
            "style": "IPY_MODEL_da7fe199d6164d5fb95551cade9f3096",
            "value": 538
          }
        },
        "fe1caa0622984898b86040bd1be45b55": {
          "model_module": "@jupyter-widgets/controls",
          "model_name": "HTMLModel",
          "model_module_version": "1.5.0",
          "state": {
            "_dom_classes": [],
            "_model_module": "@jupyter-widgets/controls",
            "_model_module_version": "1.5.0",
            "_model_name": "HTMLModel",
            "_view_count": null,
            "_view_module": "@jupyter-widgets/controls",
            "_view_module_version": "1.5.0",
            "_view_name": "HTMLView",
            "description": "",
            "description_tooltip": null,
            "layout": "IPY_MODEL_4b53ace34a28498f9e5cde2ea2735e3e",
            "placeholder": "​",
            "style": "IPY_MODEL_d4dca3aa86af4ec7a42137dcc82c2f88",
            "value": " 538/538 [00:00&lt;00:00, 15.8kB/s]"
          }
        },
        "748da7fb101448ccb5622631568e9753": {
          "model_module": "@jupyter-widgets/base",
          "model_name": "LayoutModel",
          "model_module_version": "1.2.0",
          "state": {
            "_model_module": "@jupyter-widgets/base",
            "_model_module_version": "1.2.0",
            "_model_name": "LayoutModel",
            "_view_count": null,
            "_view_module": "@jupyter-widgets/base",
            "_view_module_version": "1.2.0",
            "_view_name": "LayoutView",
            "align_content": null,
            "align_items": null,
            "align_self": null,
            "border": null,
            "bottom": null,
            "display": null,
            "flex": null,
            "flex_flow": null,
            "grid_area": null,
            "grid_auto_columns": null,
            "grid_auto_flow": null,
            "grid_auto_rows": null,
            "grid_column": null,
            "grid_gap": null,
            "grid_row": null,
            "grid_template_areas": null,
            "grid_template_columns": null,
            "grid_template_rows": null,
            "height": null,
            "justify_content": null,
            "justify_items": null,
            "left": null,
            "margin": null,
            "max_height": null,
            "max_width": null,
            "min_height": null,
            "min_width": null,
            "object_fit": null,
            "object_position": null,
            "order": null,
            "overflow": null,
            "overflow_x": null,
            "overflow_y": null,
            "padding": null,
            "right": null,
            "top": null,
            "visibility": null,
            "width": null
          }
        },
        "f778fcb1e48d455cadb582947024698e": {
          "model_module": "@jupyter-widgets/base",
          "model_name": "LayoutModel",
          "model_module_version": "1.2.0",
          "state": {
            "_model_module": "@jupyter-widgets/base",
            "_model_module_version": "1.2.0",
            "_model_name": "LayoutModel",
            "_view_count": null,
            "_view_module": "@jupyter-widgets/base",
            "_view_module_version": "1.2.0",
            "_view_name": "LayoutView",
            "align_content": null,
            "align_items": null,
            "align_self": null,
            "border": null,
            "bottom": null,
            "display": null,
            "flex": null,
            "flex_flow": null,
            "grid_area": null,
            "grid_auto_columns": null,
            "grid_auto_flow": null,
            "grid_auto_rows": null,
            "grid_column": null,
            "grid_gap": null,
            "grid_row": null,
            "grid_template_areas": null,
            "grid_template_columns": null,
            "grid_template_rows": null,
            "height": null,
            "justify_content": null,
            "justify_items": null,
            "left": null,
            "margin": null,
            "max_height": null,
            "max_width": null,
            "min_height": null,
            "min_width": null,
            "object_fit": null,
            "object_position": null,
            "order": null,
            "overflow": null,
            "overflow_x": null,
            "overflow_y": null,
            "padding": null,
            "right": null,
            "top": null,
            "visibility": null,
            "width": null
          }
        },
        "b398ff506e0c4ad0b81d76e953db6cc2": {
          "model_module": "@jupyter-widgets/controls",
          "model_name": "DescriptionStyleModel",
          "model_module_version": "1.5.0",
          "state": {
            "_model_module": "@jupyter-widgets/controls",
            "_model_module_version": "1.5.0",
            "_model_name": "DescriptionStyleModel",
            "_view_count": null,
            "_view_module": "@jupyter-widgets/base",
            "_view_module_version": "1.2.0",
            "_view_name": "StyleView",
            "description_width": ""
          }
        },
        "55ccb5f1e85544f4b1dd68f479a493bb": {
          "model_module": "@jupyter-widgets/base",
          "model_name": "LayoutModel",
          "model_module_version": "1.2.0",
          "state": {
            "_model_module": "@jupyter-widgets/base",
            "_model_module_version": "1.2.0",
            "_model_name": "LayoutModel",
            "_view_count": null,
            "_view_module": "@jupyter-widgets/base",
            "_view_module_version": "1.2.0",
            "_view_name": "LayoutView",
            "align_content": null,
            "align_items": null,
            "align_self": null,
            "border": null,
            "bottom": null,
            "display": null,
            "flex": null,
            "flex_flow": null,
            "grid_area": null,
            "grid_auto_columns": null,
            "grid_auto_flow": null,
            "grid_auto_rows": null,
            "grid_column": null,
            "grid_gap": null,
            "grid_row": null,
            "grid_template_areas": null,
            "grid_template_columns": null,
            "grid_template_rows": null,
            "height": null,
            "justify_content": null,
            "justify_items": null,
            "left": null,
            "margin": null,
            "max_height": null,
            "max_width": null,
            "min_height": null,
            "min_width": null,
            "object_fit": null,
            "object_position": null,
            "order": null,
            "overflow": null,
            "overflow_x": null,
            "overflow_y": null,
            "padding": null,
            "right": null,
            "top": null,
            "visibility": null,
            "width": null
          }
        },
        "da7fe199d6164d5fb95551cade9f3096": {
          "model_module": "@jupyter-widgets/controls",
          "model_name": "ProgressStyleModel",
          "model_module_version": "1.5.0",
          "state": {
            "_model_module": "@jupyter-widgets/controls",
            "_model_module_version": "1.5.0",
            "_model_name": "ProgressStyleModel",
            "_view_count": null,
            "_view_module": "@jupyter-widgets/base",
            "_view_module_version": "1.2.0",
            "_view_name": "StyleView",
            "bar_color": null,
            "description_width": ""
          }
        },
        "4b53ace34a28498f9e5cde2ea2735e3e": {
          "model_module": "@jupyter-widgets/base",
          "model_name": "LayoutModel",
          "model_module_version": "1.2.0",
          "state": {
            "_model_module": "@jupyter-widgets/base",
            "_model_module_version": "1.2.0",
            "_model_name": "LayoutModel",
            "_view_count": null,
            "_view_module": "@jupyter-widgets/base",
            "_view_module_version": "1.2.0",
            "_view_name": "LayoutView",
            "align_content": null,
            "align_items": null,
            "align_self": null,
            "border": null,
            "bottom": null,
            "display": null,
            "flex": null,
            "flex_flow": null,
            "grid_area": null,
            "grid_auto_columns": null,
            "grid_auto_flow": null,
            "grid_auto_rows": null,
            "grid_column": null,
            "grid_gap": null,
            "grid_row": null,
            "grid_template_areas": null,
            "grid_template_columns": null,
            "grid_template_rows": null,
            "height": null,
            "justify_content": null,
            "justify_items": null,
            "left": null,
            "margin": null,
            "max_height": null,
            "max_width": null,
            "min_height": null,
            "min_width": null,
            "object_fit": null,
            "object_position": null,
            "order": null,
            "overflow": null,
            "overflow_x": null,
            "overflow_y": null,
            "padding": null,
            "right": null,
            "top": null,
            "visibility": null,
            "width": null
          }
        },
        "d4dca3aa86af4ec7a42137dcc82c2f88": {
          "model_module": "@jupyter-widgets/controls",
          "model_name": "DescriptionStyleModel",
          "model_module_version": "1.5.0",
          "state": {
            "_model_module": "@jupyter-widgets/controls",
            "_model_module_version": "1.5.0",
            "_model_name": "DescriptionStyleModel",
            "_view_count": null,
            "_view_module": "@jupyter-widgets/base",
            "_view_module_version": "1.2.0",
            "_view_name": "StyleView",
            "description_width": ""
          }
        },
        "9b3f0cd66e4d4973aef864123f5d3e28": {
          "model_module": "@jupyter-widgets/controls",
          "model_name": "HBoxModel",
          "model_module_version": "1.5.0",
          "state": {
            "_dom_classes": [],
            "_model_module": "@jupyter-widgets/controls",
            "_model_module_version": "1.5.0",
            "_model_name": "HBoxModel",
            "_view_count": null,
            "_view_module": "@jupyter-widgets/controls",
            "_view_module_version": "1.5.0",
            "_view_name": "HBoxView",
            "box_style": "",
            "children": [
              "IPY_MODEL_83c510fec90849eeb523513c1d2a4920",
              "IPY_MODEL_40cb87a72f2a494a90ef6b4f9a2568b4",
              "IPY_MODEL_f6ed61e360244bba892267ea1ec977bf"
            ],
            "layout": "IPY_MODEL_c6f474b49537437d9c1edc7fc97fbe8b"
          }
        },
        "83c510fec90849eeb523513c1d2a4920": {
          "model_module": "@jupyter-widgets/controls",
          "model_name": "HTMLModel",
          "model_module_version": "1.5.0",
          "state": {
            "_dom_classes": [],
            "_model_module": "@jupyter-widgets/controls",
            "_model_module_version": "1.5.0",
            "_model_name": "HTMLModel",
            "_view_count": null,
            "_view_module": "@jupyter-widgets/controls",
            "_view_module_version": "1.5.0",
            "_view_name": "HTMLView",
            "description": "",
            "description_tooltip": null,
            "layout": "IPY_MODEL_eeb1265d710541c5a9d735d3b5510c38",
            "placeholder": "​",
            "style": "IPY_MODEL_1626b430cfaf4d4b9d750905e7e9f09f",
            "value": "Downloading (…)solve/main/vocab.txt: 100%"
          }
        },
        "40cb87a72f2a494a90ef6b4f9a2568b4": {
          "model_module": "@jupyter-widgets/controls",
          "model_name": "FloatProgressModel",
          "model_module_version": "1.5.0",
          "state": {
            "_dom_classes": [],
            "_model_module": "@jupyter-widgets/controls",
            "_model_module_version": "1.5.0",
            "_model_name": "FloatProgressModel",
            "_view_count": null,
            "_view_module": "@jupyter-widgets/controls",
            "_view_module_version": "1.5.0",
            "_view_name": "ProgressView",
            "bar_style": "success",
            "description": "",
            "description_tooltip": null,
            "layout": "IPY_MODEL_7e36399a8828452fb06e5782defd3a72",
            "max": 1404983,
            "min": 0,
            "orientation": "horizontal",
            "style": "IPY_MODEL_b31468e7bdda43ef97426cd71c424fc9",
            "value": 1404983
          }
        },
        "f6ed61e360244bba892267ea1ec977bf": {
          "model_module": "@jupyter-widgets/controls",
          "model_name": "HTMLModel",
          "model_module_version": "1.5.0",
          "state": {
            "_dom_classes": [],
            "_model_module": "@jupyter-widgets/controls",
            "_model_module_version": "1.5.0",
            "_model_name": "HTMLModel",
            "_view_count": null,
            "_view_module": "@jupyter-widgets/controls",
            "_view_module_version": "1.5.0",
            "_view_name": "HTMLView",
            "description": "",
            "description_tooltip": null,
            "layout": "IPY_MODEL_c6afc9020a9842268f0c1ec888739bad",
            "placeholder": "​",
            "style": "IPY_MODEL_2ed88f03a2834f04bbb98244614ca908",
            "value": " 1.40M/1.40M [00:00&lt;00:00, 16.9MB/s]"
          }
        },
        "c6f474b49537437d9c1edc7fc97fbe8b": {
          "model_module": "@jupyter-widgets/base",
          "model_name": "LayoutModel",
          "model_module_version": "1.2.0",
          "state": {
            "_model_module": "@jupyter-widgets/base",
            "_model_module_version": "1.2.0",
            "_model_name": "LayoutModel",
            "_view_count": null,
            "_view_module": "@jupyter-widgets/base",
            "_view_module_version": "1.2.0",
            "_view_name": "LayoutView",
            "align_content": null,
            "align_items": null,
            "align_self": null,
            "border": null,
            "bottom": null,
            "display": null,
            "flex": null,
            "flex_flow": null,
            "grid_area": null,
            "grid_auto_columns": null,
            "grid_auto_flow": null,
            "grid_auto_rows": null,
            "grid_column": null,
            "grid_gap": null,
            "grid_row": null,
            "grid_template_areas": null,
            "grid_template_columns": null,
            "grid_template_rows": null,
            "height": null,
            "justify_content": null,
            "justify_items": null,
            "left": null,
            "margin": null,
            "max_height": null,
            "max_width": null,
            "min_height": null,
            "min_width": null,
            "object_fit": null,
            "object_position": null,
            "order": null,
            "overflow": null,
            "overflow_x": null,
            "overflow_y": null,
            "padding": null,
            "right": null,
            "top": null,
            "visibility": null,
            "width": null
          }
        },
        "eeb1265d710541c5a9d735d3b5510c38": {
          "model_module": "@jupyter-widgets/base",
          "model_name": "LayoutModel",
          "model_module_version": "1.2.0",
          "state": {
            "_model_module": "@jupyter-widgets/base",
            "_model_module_version": "1.2.0",
            "_model_name": "LayoutModel",
            "_view_count": null,
            "_view_module": "@jupyter-widgets/base",
            "_view_module_version": "1.2.0",
            "_view_name": "LayoutView",
            "align_content": null,
            "align_items": null,
            "align_self": null,
            "border": null,
            "bottom": null,
            "display": null,
            "flex": null,
            "flex_flow": null,
            "grid_area": null,
            "grid_auto_columns": null,
            "grid_auto_flow": null,
            "grid_auto_rows": null,
            "grid_column": null,
            "grid_gap": null,
            "grid_row": null,
            "grid_template_areas": null,
            "grid_template_columns": null,
            "grid_template_rows": null,
            "height": null,
            "justify_content": null,
            "justify_items": null,
            "left": null,
            "margin": null,
            "max_height": null,
            "max_width": null,
            "min_height": null,
            "min_width": null,
            "object_fit": null,
            "object_position": null,
            "order": null,
            "overflow": null,
            "overflow_x": null,
            "overflow_y": null,
            "padding": null,
            "right": null,
            "top": null,
            "visibility": null,
            "width": null
          }
        },
        "1626b430cfaf4d4b9d750905e7e9f09f": {
          "model_module": "@jupyter-widgets/controls",
          "model_name": "DescriptionStyleModel",
          "model_module_version": "1.5.0",
          "state": {
            "_model_module": "@jupyter-widgets/controls",
            "_model_module_version": "1.5.0",
            "_model_name": "DescriptionStyleModel",
            "_view_count": null,
            "_view_module": "@jupyter-widgets/base",
            "_view_module_version": "1.2.0",
            "_view_name": "StyleView",
            "description_width": ""
          }
        },
        "7e36399a8828452fb06e5782defd3a72": {
          "model_module": "@jupyter-widgets/base",
          "model_name": "LayoutModel",
          "model_module_version": "1.2.0",
          "state": {
            "_model_module": "@jupyter-widgets/base",
            "_model_module_version": "1.2.0",
            "_model_name": "LayoutModel",
            "_view_count": null,
            "_view_module": "@jupyter-widgets/base",
            "_view_module_version": "1.2.0",
            "_view_name": "LayoutView",
            "align_content": null,
            "align_items": null,
            "align_self": null,
            "border": null,
            "bottom": null,
            "display": null,
            "flex": null,
            "flex_flow": null,
            "grid_area": null,
            "grid_auto_columns": null,
            "grid_auto_flow": null,
            "grid_auto_rows": null,
            "grid_column": null,
            "grid_gap": null,
            "grid_row": null,
            "grid_template_areas": null,
            "grid_template_columns": null,
            "grid_template_rows": null,
            "height": null,
            "justify_content": null,
            "justify_items": null,
            "left": null,
            "margin": null,
            "max_height": null,
            "max_width": null,
            "min_height": null,
            "min_width": null,
            "object_fit": null,
            "object_position": null,
            "order": null,
            "overflow": null,
            "overflow_x": null,
            "overflow_y": null,
            "padding": null,
            "right": null,
            "top": null,
            "visibility": null,
            "width": null
          }
        },
        "b31468e7bdda43ef97426cd71c424fc9": {
          "model_module": "@jupyter-widgets/controls",
          "model_name": "ProgressStyleModel",
          "model_module_version": "1.5.0",
          "state": {
            "_model_module": "@jupyter-widgets/controls",
            "_model_module_version": "1.5.0",
            "_model_name": "ProgressStyleModel",
            "_view_count": null,
            "_view_module": "@jupyter-widgets/base",
            "_view_module_version": "1.2.0",
            "_view_name": "StyleView",
            "bar_color": null,
            "description_width": ""
          }
        },
        "c6afc9020a9842268f0c1ec888739bad": {
          "model_module": "@jupyter-widgets/base",
          "model_name": "LayoutModel",
          "model_module_version": "1.2.0",
          "state": {
            "_model_module": "@jupyter-widgets/base",
            "_model_module_version": "1.2.0",
            "_model_name": "LayoutModel",
            "_view_count": null,
            "_view_module": "@jupyter-widgets/base",
            "_view_module_version": "1.2.0",
            "_view_name": "LayoutView",
            "align_content": null,
            "align_items": null,
            "align_self": null,
            "border": null,
            "bottom": null,
            "display": null,
            "flex": null,
            "flex_flow": null,
            "grid_area": null,
            "grid_auto_columns": null,
            "grid_auto_flow": null,
            "grid_auto_rows": null,
            "grid_column": null,
            "grid_gap": null,
            "grid_row": null,
            "grid_template_areas": null,
            "grid_template_columns": null,
            "grid_template_rows": null,
            "height": null,
            "justify_content": null,
            "justify_items": null,
            "left": null,
            "margin": null,
            "max_height": null,
            "max_width": null,
            "min_height": null,
            "min_width": null,
            "object_fit": null,
            "object_position": null,
            "order": null,
            "overflow": null,
            "overflow_x": null,
            "overflow_y": null,
            "padding": null,
            "right": null,
            "top": null,
            "visibility": null,
            "width": null
          }
        },
        "2ed88f03a2834f04bbb98244614ca908": {
          "model_module": "@jupyter-widgets/controls",
          "model_name": "DescriptionStyleModel",
          "model_module_version": "1.5.0",
          "state": {
            "_model_module": "@jupyter-widgets/controls",
            "_model_module_version": "1.5.0",
            "_model_name": "DescriptionStyleModel",
            "_view_count": null,
            "_view_module": "@jupyter-widgets/base",
            "_view_module_version": "1.2.0",
            "_view_name": "StyleView",
            "description_width": ""
          }
        },
        "dfdee5e28f774420ab3675671bb04f67": {
          "model_module": "@jupyter-widgets/controls",
          "model_name": "HBoxModel",
          "model_module_version": "1.5.0",
          "state": {
            "_dom_classes": [],
            "_model_module": "@jupyter-widgets/controls",
            "_model_module_version": "1.5.0",
            "_model_name": "HBoxModel",
            "_view_count": null,
            "_view_module": "@jupyter-widgets/controls",
            "_view_module_version": "1.5.0",
            "_view_name": "HBoxView",
            "box_style": "",
            "children": [
              "IPY_MODEL_f1edf7a28ec445ba81ecf54ef55fabdf",
              "IPY_MODEL_71d11a30bbed434db50c04d60bbcc9d2",
              "IPY_MODEL_f3ffcf7d547945d8b4b5c126a5b9c166"
            ],
            "layout": "IPY_MODEL_923ce926c8e3406cbc1dba5c95ee6b77"
          }
        },
        "f1edf7a28ec445ba81ecf54ef55fabdf": {
          "model_module": "@jupyter-widgets/controls",
          "model_name": "HTMLModel",
          "model_module_version": "1.5.0",
          "state": {
            "_dom_classes": [],
            "_model_module": "@jupyter-widgets/controls",
            "_model_module_version": "1.5.0",
            "_model_name": "HTMLModel",
            "_view_count": null,
            "_view_module": "@jupyter-widgets/controls",
            "_view_module_version": "1.5.0",
            "_view_name": "HTMLView",
            "description": "",
            "description_tooltip": null,
            "layout": "IPY_MODEL_dec81a2d1d8f4e3892b6a1711829e4eb",
            "placeholder": "​",
            "style": "IPY_MODEL_09d2f0d23e524f53a64a935b824c1246",
            "value": "Downloading (…)cial_tokens_map.json: 100%"
          }
        },
        "71d11a30bbed434db50c04d60bbcc9d2": {
          "model_module": "@jupyter-widgets/controls",
          "model_name": "FloatProgressModel",
          "model_module_version": "1.5.0",
          "state": {
            "_dom_classes": [],
            "_model_module": "@jupyter-widgets/controls",
            "_model_module_version": "1.5.0",
            "_model_name": "FloatProgressModel",
            "_view_count": null,
            "_view_module": "@jupyter-widgets/controls",
            "_view_module_version": "1.5.0",
            "_view_name": "ProgressView",
            "bar_style": "success",
            "description": "",
            "description_tooltip": null,
            "layout": "IPY_MODEL_4b590ce17dcc4735a8145243e388d334",
            "max": 112,
            "min": 0,
            "orientation": "horizontal",
            "style": "IPY_MODEL_86e31a37634b42b7b6b9ff92f500f58a",
            "value": 112
          }
        },
        "f3ffcf7d547945d8b4b5c126a5b9c166": {
          "model_module": "@jupyter-widgets/controls",
          "model_name": "HTMLModel",
          "model_module_version": "1.5.0",
          "state": {
            "_dom_classes": [],
            "_model_module": "@jupyter-widgets/controls",
            "_model_module_version": "1.5.0",
            "_model_name": "HTMLModel",
            "_view_count": null,
            "_view_module": "@jupyter-widgets/controls",
            "_view_module_version": "1.5.0",
            "_view_name": "HTMLView",
            "description": "",
            "description_tooltip": null,
            "layout": "IPY_MODEL_45893d18f2e94fc496663c6df658d541",
            "placeholder": "​",
            "style": "IPY_MODEL_698dce281b654724a77418dc69ecfb48",
            "value": " 112/112 [00:00&lt;00:00, 2.69kB/s]"
          }
        },
        "923ce926c8e3406cbc1dba5c95ee6b77": {
          "model_module": "@jupyter-widgets/base",
          "model_name": "LayoutModel",
          "model_module_version": "1.2.0",
          "state": {
            "_model_module": "@jupyter-widgets/base",
            "_model_module_version": "1.2.0",
            "_model_name": "LayoutModel",
            "_view_count": null,
            "_view_module": "@jupyter-widgets/base",
            "_view_module_version": "1.2.0",
            "_view_name": "LayoutView",
            "align_content": null,
            "align_items": null,
            "align_self": null,
            "border": null,
            "bottom": null,
            "display": null,
            "flex": null,
            "flex_flow": null,
            "grid_area": null,
            "grid_auto_columns": null,
            "grid_auto_flow": null,
            "grid_auto_rows": null,
            "grid_column": null,
            "grid_gap": null,
            "grid_row": null,
            "grid_template_areas": null,
            "grid_template_columns": null,
            "grid_template_rows": null,
            "height": null,
            "justify_content": null,
            "justify_items": null,
            "left": null,
            "margin": null,
            "max_height": null,
            "max_width": null,
            "min_height": null,
            "min_width": null,
            "object_fit": null,
            "object_position": null,
            "order": null,
            "overflow": null,
            "overflow_x": null,
            "overflow_y": null,
            "padding": null,
            "right": null,
            "top": null,
            "visibility": null,
            "width": null
          }
        },
        "dec81a2d1d8f4e3892b6a1711829e4eb": {
          "model_module": "@jupyter-widgets/base",
          "model_name": "LayoutModel",
          "model_module_version": "1.2.0",
          "state": {
            "_model_module": "@jupyter-widgets/base",
            "_model_module_version": "1.2.0",
            "_model_name": "LayoutModel",
            "_view_count": null,
            "_view_module": "@jupyter-widgets/base",
            "_view_module_version": "1.2.0",
            "_view_name": "LayoutView",
            "align_content": null,
            "align_items": null,
            "align_self": null,
            "border": null,
            "bottom": null,
            "display": null,
            "flex": null,
            "flex_flow": null,
            "grid_area": null,
            "grid_auto_columns": null,
            "grid_auto_flow": null,
            "grid_auto_rows": null,
            "grid_column": null,
            "grid_gap": null,
            "grid_row": null,
            "grid_template_areas": null,
            "grid_template_columns": null,
            "grid_template_rows": null,
            "height": null,
            "justify_content": null,
            "justify_items": null,
            "left": null,
            "margin": null,
            "max_height": null,
            "max_width": null,
            "min_height": null,
            "min_width": null,
            "object_fit": null,
            "object_position": null,
            "order": null,
            "overflow": null,
            "overflow_x": null,
            "overflow_y": null,
            "padding": null,
            "right": null,
            "top": null,
            "visibility": null,
            "width": null
          }
        },
        "09d2f0d23e524f53a64a935b824c1246": {
          "model_module": "@jupyter-widgets/controls",
          "model_name": "DescriptionStyleModel",
          "model_module_version": "1.5.0",
          "state": {
            "_model_module": "@jupyter-widgets/controls",
            "_model_module_version": "1.5.0",
            "_model_name": "DescriptionStyleModel",
            "_view_count": null,
            "_view_module": "@jupyter-widgets/base",
            "_view_module_version": "1.2.0",
            "_view_name": "StyleView",
            "description_width": ""
          }
        },
        "4b590ce17dcc4735a8145243e388d334": {
          "model_module": "@jupyter-widgets/base",
          "model_name": "LayoutModel",
          "model_module_version": "1.2.0",
          "state": {
            "_model_module": "@jupyter-widgets/base",
            "_model_module_version": "1.2.0",
            "_model_name": "LayoutModel",
            "_view_count": null,
            "_view_module": "@jupyter-widgets/base",
            "_view_module_version": "1.2.0",
            "_view_name": "LayoutView",
            "align_content": null,
            "align_items": null,
            "align_self": null,
            "border": null,
            "bottom": null,
            "display": null,
            "flex": null,
            "flex_flow": null,
            "grid_area": null,
            "grid_auto_columns": null,
            "grid_auto_flow": null,
            "grid_auto_rows": null,
            "grid_column": null,
            "grid_gap": null,
            "grid_row": null,
            "grid_template_areas": null,
            "grid_template_columns": null,
            "grid_template_rows": null,
            "height": null,
            "justify_content": null,
            "justify_items": null,
            "left": null,
            "margin": null,
            "max_height": null,
            "max_width": null,
            "min_height": null,
            "min_width": null,
            "object_fit": null,
            "object_position": null,
            "order": null,
            "overflow": null,
            "overflow_x": null,
            "overflow_y": null,
            "padding": null,
            "right": null,
            "top": null,
            "visibility": null,
            "width": null
          }
        },
        "86e31a37634b42b7b6b9ff92f500f58a": {
          "model_module": "@jupyter-widgets/controls",
          "model_name": "ProgressStyleModel",
          "model_module_version": "1.5.0",
          "state": {
            "_model_module": "@jupyter-widgets/controls",
            "_model_module_version": "1.5.0",
            "_model_name": "ProgressStyleModel",
            "_view_count": null,
            "_view_module": "@jupyter-widgets/base",
            "_view_module_version": "1.2.0",
            "_view_name": "StyleView",
            "bar_color": null,
            "description_width": ""
          }
        },
        "45893d18f2e94fc496663c6df658d541": {
          "model_module": "@jupyter-widgets/base",
          "model_name": "LayoutModel",
          "model_module_version": "1.2.0",
          "state": {
            "_model_module": "@jupyter-widgets/base",
            "_model_module_version": "1.2.0",
            "_model_name": "LayoutModel",
            "_view_count": null,
            "_view_module": "@jupyter-widgets/base",
            "_view_module_version": "1.2.0",
            "_view_name": "LayoutView",
            "align_content": null,
            "align_items": null,
            "align_self": null,
            "border": null,
            "bottom": null,
            "display": null,
            "flex": null,
            "flex_flow": null,
            "grid_area": null,
            "grid_auto_columns": null,
            "grid_auto_flow": null,
            "grid_auto_rows": null,
            "grid_column": null,
            "grid_gap": null,
            "grid_row": null,
            "grid_template_areas": null,
            "grid_template_columns": null,
            "grid_template_rows": null,
            "height": null,
            "justify_content": null,
            "justify_items": null,
            "left": null,
            "margin": null,
            "max_height": null,
            "max_width": null,
            "min_height": null,
            "min_width": null,
            "object_fit": null,
            "object_position": null,
            "order": null,
            "overflow": null,
            "overflow_x": null,
            "overflow_y": null,
            "padding": null,
            "right": null,
            "top": null,
            "visibility": null,
            "width": null
          }
        },
        "698dce281b654724a77418dc69ecfb48": {
          "model_module": "@jupyter-widgets/controls",
          "model_name": "DescriptionStyleModel",
          "model_module_version": "1.5.0",
          "state": {
            "_model_module": "@jupyter-widgets/controls",
            "_model_module_version": "1.5.0",
            "_model_name": "DescriptionStyleModel",
            "_view_count": null,
            "_view_module": "@jupyter-widgets/base",
            "_view_module_version": "1.2.0",
            "_view_name": "StyleView",
            "description_width": ""
          }
        },
        "0ae678208ab149dfbcd6fdfbf8c2b2cc": {
          "model_module": "@jupyter-widgets/controls",
          "model_name": "HBoxModel",
          "model_module_version": "1.5.0",
          "state": {
            "_dom_classes": [],
            "_model_module": "@jupyter-widgets/controls",
            "_model_module_version": "1.5.0",
            "_model_name": "HBoxModel",
            "_view_count": null,
            "_view_module": "@jupyter-widgets/controls",
            "_view_module_version": "1.5.0",
            "_view_name": "HBoxView",
            "box_style": "",
            "children": [
              "IPY_MODEL_679716dbd6ee46d5bf2f3ee99c199092",
              "IPY_MODEL_3ab582f4bc2d4c4ba621f85ece00ecb8",
              "IPY_MODEL_b742342cb14f4dd893abec2d24746049"
            ],
            "layout": "IPY_MODEL_b873b56b6e4145eeadde5fdd22fcc0f2"
          }
        },
        "679716dbd6ee46d5bf2f3ee99c199092": {
          "model_module": "@jupyter-widgets/controls",
          "model_name": "HTMLModel",
          "model_module_version": "1.5.0",
          "state": {
            "_dom_classes": [],
            "_model_module": "@jupyter-widgets/controls",
            "_model_module_version": "1.5.0",
            "_model_name": "HTMLModel",
            "_view_count": null,
            "_view_module": "@jupyter-widgets/controls",
            "_view_module_version": "1.5.0",
            "_view_name": "HTMLView",
            "description": "",
            "description_tooltip": null,
            "layout": "IPY_MODEL_399648071abd4cb7b0a626573b06c459",
            "placeholder": "​",
            "style": "IPY_MODEL_bdef70320fc647d7a5a1a8147e6cffe4",
            "value": "Downloading pytorch_model.bin: 100%"
          }
        },
        "3ab582f4bc2d4c4ba621f85ece00ecb8": {
          "model_module": "@jupyter-widgets/controls",
          "model_name": "FloatProgressModel",
          "model_module_version": "1.5.0",
          "state": {
            "_dom_classes": [],
            "_model_module": "@jupyter-widgets/controls",
            "_model_module_version": "1.5.0",
            "_model_name": "FloatProgressModel",
            "_view_count": null,
            "_view_module": "@jupyter-widgets/controls",
            "_view_module_version": "1.5.0",
            "_view_name": "ProgressView",
            "bar_style": "success",
            "description": "",
            "description_tooltip": null,
            "layout": "IPY_MODEL_c7f07478cea74d689296508a3eed342d",
            "max": 541826656,
            "min": 0,
            "orientation": "horizontal",
            "style": "IPY_MODEL_849fe946e3f742b2b0a537cf31297747",
            "value": 541826656
          }
        },
        "b742342cb14f4dd893abec2d24746049": {
          "model_module": "@jupyter-widgets/controls",
          "model_name": "HTMLModel",
          "model_module_version": "1.5.0",
          "state": {
            "_dom_classes": [],
            "_model_module": "@jupyter-widgets/controls",
            "_model_module_version": "1.5.0",
            "_model_name": "HTMLModel",
            "_view_count": null,
            "_view_module": "@jupyter-widgets/controls",
            "_view_module_version": "1.5.0",
            "_view_name": "HTMLView",
            "description": "",
            "description_tooltip": null,
            "layout": "IPY_MODEL_b9f424b6276a43908a098cc42b2f8987",
            "placeholder": "​",
            "style": "IPY_MODEL_833d899205bb4488b889d0a6d5abfaf0",
            "value": " 542M/542M [00:01&lt;00:00, 257MB/s]"
          }
        },
        "b873b56b6e4145eeadde5fdd22fcc0f2": {
          "model_module": "@jupyter-widgets/base",
          "model_name": "LayoutModel",
          "model_module_version": "1.2.0",
          "state": {
            "_model_module": "@jupyter-widgets/base",
            "_model_module_version": "1.2.0",
            "_model_name": "LayoutModel",
            "_view_count": null,
            "_view_module": "@jupyter-widgets/base",
            "_view_module_version": "1.2.0",
            "_view_name": "LayoutView",
            "align_content": null,
            "align_items": null,
            "align_self": null,
            "border": null,
            "bottom": null,
            "display": null,
            "flex": null,
            "flex_flow": null,
            "grid_area": null,
            "grid_auto_columns": null,
            "grid_auto_flow": null,
            "grid_auto_rows": null,
            "grid_column": null,
            "grid_gap": null,
            "grid_row": null,
            "grid_template_areas": null,
            "grid_template_columns": null,
            "grid_template_rows": null,
            "height": null,
            "justify_content": null,
            "justify_items": null,
            "left": null,
            "margin": null,
            "max_height": null,
            "max_width": null,
            "min_height": null,
            "min_width": null,
            "object_fit": null,
            "object_position": null,
            "order": null,
            "overflow": null,
            "overflow_x": null,
            "overflow_y": null,
            "padding": null,
            "right": null,
            "top": null,
            "visibility": null,
            "width": null
          }
        },
        "399648071abd4cb7b0a626573b06c459": {
          "model_module": "@jupyter-widgets/base",
          "model_name": "LayoutModel",
          "model_module_version": "1.2.0",
          "state": {
            "_model_module": "@jupyter-widgets/base",
            "_model_module_version": "1.2.0",
            "_model_name": "LayoutModel",
            "_view_count": null,
            "_view_module": "@jupyter-widgets/base",
            "_view_module_version": "1.2.0",
            "_view_name": "LayoutView",
            "align_content": null,
            "align_items": null,
            "align_self": null,
            "border": null,
            "bottom": null,
            "display": null,
            "flex": null,
            "flex_flow": null,
            "grid_area": null,
            "grid_auto_columns": null,
            "grid_auto_flow": null,
            "grid_auto_rows": null,
            "grid_column": null,
            "grid_gap": null,
            "grid_row": null,
            "grid_template_areas": null,
            "grid_template_columns": null,
            "grid_template_rows": null,
            "height": null,
            "justify_content": null,
            "justify_items": null,
            "left": null,
            "margin": null,
            "max_height": null,
            "max_width": null,
            "min_height": null,
            "min_width": null,
            "object_fit": null,
            "object_position": null,
            "order": null,
            "overflow": null,
            "overflow_x": null,
            "overflow_y": null,
            "padding": null,
            "right": null,
            "top": null,
            "visibility": null,
            "width": null
          }
        },
        "bdef70320fc647d7a5a1a8147e6cffe4": {
          "model_module": "@jupyter-widgets/controls",
          "model_name": "DescriptionStyleModel",
          "model_module_version": "1.5.0",
          "state": {
            "_model_module": "@jupyter-widgets/controls",
            "_model_module_version": "1.5.0",
            "_model_name": "DescriptionStyleModel",
            "_view_count": null,
            "_view_module": "@jupyter-widgets/base",
            "_view_module_version": "1.2.0",
            "_view_name": "StyleView",
            "description_width": ""
          }
        },
        "c7f07478cea74d689296508a3eed342d": {
          "model_module": "@jupyter-widgets/base",
          "model_name": "LayoutModel",
          "model_module_version": "1.2.0",
          "state": {
            "_model_module": "@jupyter-widgets/base",
            "_model_module_version": "1.2.0",
            "_model_name": "LayoutModel",
            "_view_count": null,
            "_view_module": "@jupyter-widgets/base",
            "_view_module_version": "1.2.0",
            "_view_name": "LayoutView",
            "align_content": null,
            "align_items": null,
            "align_self": null,
            "border": null,
            "bottom": null,
            "display": null,
            "flex": null,
            "flex_flow": null,
            "grid_area": null,
            "grid_auto_columns": null,
            "grid_auto_flow": null,
            "grid_auto_rows": null,
            "grid_column": null,
            "grid_gap": null,
            "grid_row": null,
            "grid_template_areas": null,
            "grid_template_columns": null,
            "grid_template_rows": null,
            "height": null,
            "justify_content": null,
            "justify_items": null,
            "left": null,
            "margin": null,
            "max_height": null,
            "max_width": null,
            "min_height": null,
            "min_width": null,
            "object_fit": null,
            "object_position": null,
            "order": null,
            "overflow": null,
            "overflow_x": null,
            "overflow_y": null,
            "padding": null,
            "right": null,
            "top": null,
            "visibility": null,
            "width": null
          }
        },
        "849fe946e3f742b2b0a537cf31297747": {
          "model_module": "@jupyter-widgets/controls",
          "model_name": "ProgressStyleModel",
          "model_module_version": "1.5.0",
          "state": {
            "_model_module": "@jupyter-widgets/controls",
            "_model_module_version": "1.5.0",
            "_model_name": "ProgressStyleModel",
            "_view_count": null,
            "_view_module": "@jupyter-widgets/base",
            "_view_module_version": "1.2.0",
            "_view_name": "StyleView",
            "bar_color": null,
            "description_width": ""
          }
        },
        "b9f424b6276a43908a098cc42b2f8987": {
          "model_module": "@jupyter-widgets/base",
          "model_name": "LayoutModel",
          "model_module_version": "1.2.0",
          "state": {
            "_model_module": "@jupyter-widgets/base",
            "_model_module_version": "1.2.0",
            "_model_name": "LayoutModel",
            "_view_count": null,
            "_view_module": "@jupyter-widgets/base",
            "_view_module_version": "1.2.0",
            "_view_name": "LayoutView",
            "align_content": null,
            "align_items": null,
            "align_self": null,
            "border": null,
            "bottom": null,
            "display": null,
            "flex": null,
            "flex_flow": null,
            "grid_area": null,
            "grid_auto_columns": null,
            "grid_auto_flow": null,
            "grid_auto_rows": null,
            "grid_column": null,
            "grid_gap": null,
            "grid_row": null,
            "grid_template_areas": null,
            "grid_template_columns": null,
            "grid_template_rows": null,
            "height": null,
            "justify_content": null,
            "justify_items": null,
            "left": null,
            "margin": null,
            "max_height": null,
            "max_width": null,
            "min_height": null,
            "min_width": null,
            "object_fit": null,
            "object_position": null,
            "order": null,
            "overflow": null,
            "overflow_x": null,
            "overflow_y": null,
            "padding": null,
            "right": null,
            "top": null,
            "visibility": null,
            "width": null
          }
        },
        "833d899205bb4488b889d0a6d5abfaf0": {
          "model_module": "@jupyter-widgets/controls",
          "model_name": "DescriptionStyleModel",
          "model_module_version": "1.5.0",
          "state": {
            "_model_module": "@jupyter-widgets/controls",
            "_model_module_version": "1.5.0",
            "_model_name": "DescriptionStyleModel",
            "_view_count": null,
            "_view_module": "@jupyter-widgets/base",
            "_view_module_version": "1.2.0",
            "_view_name": "StyleView",
            "description_width": ""
          }
        }
      }
    }
  },
  "nbformat": 4,
  "nbformat_minor": 0
}