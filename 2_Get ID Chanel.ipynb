{
 "cells": [
  {
   "cell_type": "code",
   "execution_count": 3,
   "id": "a1ec5a4a-167d-4501-b2c0-06389830f45e",
   "metadata": {},
   "outputs": [
    {
     "name": "stdout",
     "output_type": "stream",
     "text": [
      "Имя канала: @rbc_news, ID: 1099860397\n",
      "Имя канала: @rt_russian, ID: 1036362176\n",
      "Имя канала: @kommersant, ID: 1038402501\n",
      "Имя канала: @vedomosti, ID: 1075565753\n",
      "Имя канала: @rian_ru, ID: 1101170442\n",
      "Имя канала: @tass_agency, ID: 1050820672\n",
      "Имя канала: @frank_media, ID: 1293298872\n",
      "Имя канала: @BIoomberg, ID: 1477408271\n",
      "Имя канала: @markettwits, ID: 1203560567\n",
      "Имя канала: @bankser, ID: 1137955452\n",
      "Имя канала: @newssmartlab, ID: 1441563903\n",
      "Имя канала: @investingcorp, ID: 1132713042\n",
      "Имя канала: @banksta, ID: 1136626166\n",
      "Имя канала: @economylive, ID: 1425338344\n",
      "Имя канала: @FatCat18, ID: 1366793743\n",
      "Имя канала: @headlines_for_traders, ID: 1308785417\n",
      "Имя канала: @econs, ID: 1727045083\n",
      "Имя канала: @Stock_News100, ID: 1408960847\n",
      "Имя канала: @forbesrussia, ID: 1087766403\n",
      "Имя канала: @sosisochniyparserru, ID: 1940830560\n",
      "Имя канала: @gazpromneft_official, ID: 1595965216\n",
      "Имя канала: @nedvizhna24, ID: 1445969592\n",
      "Имя канала: @gazprom, ID: 1428717522\n",
      "Имя канала: @banki_economy, ID: 2409669849\n",
      "Имя канала: @SberInvestments, ID: 1239405989\n"
     ]
    }
   ],
   "source": [
    "from telethon.sync import TelegramClient\n",
    "\n",
    "# Ставим сюда твои данные:\n",
    "API_ID = 21862794\n",
    "API_HASH = 'c27ce42260ec2304a21635557c89d30e'\n",
    "PHONE = '+79006089882'\n",
    "USERNAME = 'isavosss'\n",
    "\n",
    "# Список адресов каналов, чьи идентификаторы хочешь получить\n",
    "channels = [\n",
    "    '@rbc_news', '@rt_russian', '@kommersant', '@vedomosti', '@rian_ru', '@tass_agency',\n",
    "    '@frank_media', '@BIoomberg', '@markettwits', '@bankser', '@newssmartlab', '@investingcorp',\n",
    "    '@banksta', '@economylive', '@FatCat18', '@headlines_for_traders', '@econs', '@Stock_News100',\n",
    "    '@forbesrussia', '@sosisochniyparserru', '@gazpromneft_official', '@nedvizhna24', '@gazprom',\n",
    "    '@banki_economy', '@SberInvestments'\n",
    "]\n",
    "\n",
    "# Основная функция для получения идентификаторов каналов\n",
    "async def fetch_channel_ids():\n",
    "    async with TelegramClient(USERNAME, API_ID, API_HASH) as client:\n",
    "        await client.start()\n",
    "        if not await client.is_user_authorized():\n",
    "            await client.send_code_request(PHONE)\n",
    "            try:\n",
    "                await client.sign_in(PHONE, input('Введите код подтверждения: '))\n",
    "            except SessionPasswordNeededError:\n",
    "                await client.sign_in(password=input('Введите пароль двухфакторной аутентификации: '))\n",
    "\n",
    "        # Получаем идентификаторы каналов\n",
    "        for channel in channels:\n",
    "            try:\n",
    "                entity = await client.get_entity(channel)\n",
    "                print(f\"Имя канала: {channel}, ID: {entity.id}\")\n",
    "            except Exception as e:\n",
    "                print(f\"Ошибка при получении идентификатора канала {channel}: {e}\")\n",
    "\n",
    "        await client.disconnect()\n",
    "\n",
    "# Запускаем функцию\n",
    "await fetch_channel_ids()"
   ]
  },
  {
   "cell_type": "code",
   "execution_count": null,
   "id": "795e120c-c39a-4e6e-816f-68f7accb3cd0",
   "metadata": {},
   "outputs": [],
   "source": []
  }
 ],
 "metadata": {
  "kernelspec": {
   "display_name": "Python [conda env:base] *",
   "language": "python",
   "name": "conda-base-py"
  },
  "language_info": {
   "codemirror_mode": {
    "name": "ipython",
    "version": 3
   },
   "file_extension": ".py",
   "mimetype": "text/x-python",
   "name": "python",
   "nbconvert_exporter": "python",
   "pygments_lexer": "ipython3",
   "version": "3.12.7"
  }
 },
 "nbformat": 4,
 "nbformat_minor": 5
}
